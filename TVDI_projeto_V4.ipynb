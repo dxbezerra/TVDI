{
  "nbformat": 4,
  "nbformat_minor": 0,
  "metadata": {
    "colab": {
      "name": "TVDI_projeto_2405.ipynb",
      "version": "0.3.2",
      "provenance": [],
      "collapsed_sections": [
        "FHsd4NouGjam",
        "0rfkI9VaKlWO"
      ],
      "include_colab_link": true
    },
    "kernelspec": {
      "name": "python3",
      "display_name": "Python 3"
    }
  },
  "cells": [
    {
      "cell_type": "markdown",
      "metadata": {
        "id": "view-in-github",
        "colab_type": "text"
      },
      "source": [
        "<a href=\"https://colab.research.google.com/github/dxbezerra/tvdi/blob/master/TVDI_projeto_V4.ipynb\" target=\"_parent\"><img src=\"https://colab.research.google.com/assets/colab-badge.svg\" alt=\"Open In Colab\"/></a>"
      ]
    },
    {
      "cell_type": "markdown",
      "metadata": {
        "id": "eaaTfQe3OX7s",
        "colab_type": "text"
      },
      "source": [
        "# **Cálculo do TVDI para o estado do Ceará — uma estimativa de seca em Python**\n",
        "\n",
        "Autores: Diego Xavier, Gustavo Nagel, Raíssa Teixeira, Stella Coelho. \n",
        "\n",
        "Disciplina de Introdução à Programação (SER-307) - 2019\n",
        "\n",
        "Instituto Nacional de Pesquisas Espaciais (INPE)\n",
        "\n",
        "\n",
        "---\n",
        "O índice TVDI (Temperature-Vegetation Dryness Index) é um índice de estresse hídrico baseado na relação entre a temperatura da superfície e o índice de vegetação. Assim, ao integrar o NDVI (Normalized Difference Vegetation Index) e a temperatura de superfície, o TVDI é capaz de estimar o grau da seca de uma localidade, utilizando dados na faixa do visível, infra-vermelho próximo e termal (SANDHOLT et al, 2002). Este índice é de extrema importância para o monitoramento dos períodos de seca de uma região, e pode ser facilmente obtido com dados de sensoriamento remoto nas faixas espectrais citadas. \t\n",
        "Neste sentido, o seguinte programa tem o objetivo de operacionalizar o monitoramento de seca agrícola para o estado do Ceará a partir de dados orbitais do sensor MODIS, apresentando um exemplo para a segunda quinzena de Setembro no ano de 2018, sendo um período de poucas chuvas no estado. O TVDI obtido pode ser assim aplicado para qualquer período em que estejam disponíveis os dados do sensor MODIS, e se combinado com dados de precipitação provenientes de estações meteorológicas é capaz de gerar informação extremamente relevante para uma localidade.\n",
        "\n",
        "![alg](https://docs.google.com/uc?export=download&id=1x-u197nO0fc5QyZcH0Fr2W9hmWYM7wji)\n",
        "\n",
        "\n",
        "As etapas para a obtenção do TVDI consistem de:\n",
        "1.   Download das Imagens\n",
        "2.   Extração das bandas de interesse das imagens\n",
        "3.   Mosaicagem\n",
        "4.   Recorte para área de interesse\n",
        "5.   Acesso das imagens\n",
        "6.   Tratamento dos dados\n",
        "7.   Cálculo das retas\n",
        "8.   Cálculo do TVDI\n",
        "\n",
        "\n",
        "\n"
      ]
    },
    {
      "cell_type": "code",
      "metadata": {
        "id": "17qBr2rNZ1Li",
        "colab_type": "code",
        "outputId": "71b1d98b-3342-4849-8bbb-52ba3cde23f9",
        "colab": {
          "base_uri": "https://localhost:8080/",
          "height": 5002
        }
      },
      "source": [
        "# Limpar dados, instalar bibliotecas e fazer download do shapefile\n",
        "!pip install setuptools==40.6.3\n",
        "!pip install pyModis --upgrade\n",
        "!wget -c https://repo.continuum.io/archive/Anaconda3-5.1.0-Linux-x86_64.sh\n",
        "!chmod +x Anaconda3-5.1.0-Linux-x86_64.sh\n",
        "!bash ./Anaconda3-5.1.0-Linux-x86_64.sh -b -f -p /usr/local\n",
        "!conda install -y --prefix /usr/local -c <<<your wish>>>>\n",
        "\n",
        "import sys\n",
        "sys.path.append('/usr/local/lib/python3.6/site-packages/')\n",
        "\n",
        "!rm -rf sample_data\n",
        "!rm -rf processed\n",
        "!rm -rf tvdi\n",
        "!git clone https://github.com/dxbezerra/tvdi.git\n",
        "!sudo pip install -U git+https://github.com/matplotlib/basemap.git\n"
      ],
      "execution_count": 1,
      "outputs": [
        {
          "output_type": "stream",
          "text": [
            "Collecting setuptools==40.6.3\n",
            "\u001b[33m  Cache entry deserialization failed, entry ignored\u001b[0m\n",
            "\u001b[33m  Cache entry deserialization failed, entry ignored\u001b[0m\n",
            "  Downloading https://files.pythonhosted.org/packages/37/06/754589caf971b0d2d48f151c2586f62902d93dc908e2fd9b9b9f6aa3c9dd/setuptools-40.6.3-py2.py3-none-any.whl (573kB)\n",
            "\u001b[K    100% |████████████████████████████████| 573kB 2.0MB/s \n",
            "\u001b[?25hInstalling collected packages: setuptools\n",
            "  Found existing installation: setuptools 38.4.0\n",
            "    Uninstalling setuptools-38.4.0:\n",
            "      Successfully uninstalled setuptools-38.4.0\n",
            "Successfully installed setuptools-40.6.3\n"
          ],
          "name": "stdout"
        },
        {
          "output_type": "display_data",
          "data": {
            "application/vnd.colab-display-data+json": {
              "pip_warning": {
                "packages": [
                  "pkg_resources"
                ]
              }
            }
          },
          "metadata": {
            "tags": []
          }
        },
        {
          "output_type": "stream",
          "text": [
            "Collecting pyModis\n",
            "\u001b[33m  Cache entry deserialization failed, entry ignored\u001b[0m\n",
            "Collecting requests (from pyModis)\n",
            "  Downloading https://files.pythonhosted.org/packages/51/bd/23c926cd341ea6b7dd0b2a00aba99ae0f828be89d72b2190f27c11d4b7fb/requests-2.22.0-py2.py3-none-any.whl (57kB)\n",
            "\u001b[K    100% |████████████████████████████████| 61kB 3.1MB/s \n",
            "\u001b[?25hCollecting GDAL (from pyModis)\n",
            "  Downloading https://files.pythonhosted.org/packages/e7/12/c52764aa0e2e0aa9b2195956417844bbcd956f948b0823499778db958c8b/GDAL-3.0.0.tar.gz (575kB)\n",
            "\u001b[K    100% |████████████████████████████████| 583kB 1.9MB/s \n",
            "\u001b[31mCommand \"python setup.py egg_info\" failed with error code 1 in /tmp/pip-build-d99hi8br/GDAL/\u001b[0m\n",
            "\u001b[?25h--2019-05-24 15:32:36--  https://repo.continuum.io/archive/Anaconda3-5.1.0-Linux-x86_64.sh\n",
            "Resolving repo.continuum.io (repo.continuum.io)... 104.18.200.79, 104.18.201.79, 2606:4700::6812:c84f, ...\n",
            "Connecting to repo.continuum.io (repo.continuum.io)|104.18.200.79|:443... connected.\n",
            "HTTP request sent, awaiting response... 416 Requested Range Not Satisfiable\n",
            "\n",
            "    The file is already fully retrieved; nothing to do.\n",
            "\n",
            "PREFIX=/usr/local\n",
            "installing: python-3.6.4-hc3d631a_1 ...\n",
            "Python 3.6.4 :: Anaconda, Inc.\n",
            "installing: ca-certificates-2017.08.26-h1d4fec5_0 ...\n",
            "installing: conda-env-2.6.0-h36134e3_1 ...\n",
            "installing: intel-openmp-2018.0.0-hc7b2577_8 ...\n",
            "installing: libgcc-ng-7.2.0-h7cc24e2_2 ...\n",
            "installing: libgfortran-ng-7.2.0-h9f7466a_2 ...\n",
            "installing: libstdcxx-ng-7.2.0-h7a57d05_2 ...\n",
            "installing: bzip2-1.0.6-h9a117a8_4 ...\n",
            "installing: expat-2.2.5-he0dffb1_0 ...\n",
            "installing: gmp-6.1.2-h6c8ec71_1 ...\n",
            "installing: graphite2-1.3.10-hf63cedd_1 ...\n",
            "installing: icu-58.2-h9c2bf20_1 ...\n",
            "installing: jbig-2.1-hdba287a_0 ...\n",
            "installing: jpeg-9b-h024ee3a_2 ...\n",
            "installing: libffi-3.2.1-hd88cf55_4 ...\n",
            "installing: libsodium-1.0.15-hf101ebd_0 ...\n",
            "installing: libtool-2.4.6-h544aabb_3 ...\n",
            "installing: libxcb-1.12-hcd93eb1_4 ...\n",
            "installing: lzo-2.10-h49e0be7_2 ...\n",
            "installing: mkl-2018.0.1-h19d6760_4 ...\n",
            "installing: ncurses-6.0-h9df7e31_2 ...\n",
            "installing: openssl-1.0.2n-hb7f436b_0 ...\n",
            "installing: patchelf-0.9-hf79760b_2 ...\n",
            "installing: pcre-8.41-hc27e229_1 ...\n",
            "installing: pixman-0.34.0-hceecf20_3 ...\n",
            "installing: tk-8.6.7-hc745277_3 ...\n",
            "installing: unixodbc-2.3.4-hc36303a_1 ...\n",
            "installing: xz-5.2.3-h55aa19d_2 ...\n",
            "installing: yaml-0.1.7-had09818_2 ...\n",
            "installing: zlib-1.2.11-ha838bed_2 ...\n",
            "installing: glib-2.53.6-h5d9569c_2 ...\n",
            "installing: hdf5-1.10.1-h9caa474_1 ...\n",
            "installing: libedit-3.1-heed3624_0 ...\n",
            "installing: libpng-1.6.34-hb9fc6fc_0 ...\n",
            "installing: libssh2-1.8.0-h9cfc8f7_4 ...\n",
            "installing: libtiff-4.0.9-h28f6b97_0 ...\n",
            "installing: libxml2-2.9.7-h26e45fe_0 ...\n",
            "installing: mpfr-3.1.5-h11a74b3_2 ...\n",
            "installing: pandoc-1.19.2.1-hea2e7c5_1 ...\n",
            "installing: readline-7.0-ha6073c6_4 ...\n",
            "installing: zeromq-4.2.2-hbedb6e5_2 ...\n",
            "installing: dbus-1.12.2-hc3f9b76_1 ...\n",
            "installing: freetype-2.8-hab7d2ae_1 ...\n",
            "installing: gstreamer-1.12.4-hb53b477_0 ...\n",
            "installing: libcurl-7.58.0-h1ad7b7a_0 ...\n",
            "installing: libxslt-1.1.32-h1312cb7_0 ...\n",
            "installing: mpc-1.0.3-hec55b23_5 ...\n",
            "installing: sqlite-3.22.0-h1bed415_0 ...\n",
            "installing: curl-7.58.0-h84994c4_0 ...\n",
            "installing: fontconfig-2.12.4-h88586e7_1 ...\n",
            "installing: gst-plugins-base-1.12.4-h33fb286_0 ...\n",
            "installing: alabaster-0.7.10-py36h306e16b_0 ...\n",
            "installing: asn1crypto-0.24.0-py36_0 ...\n",
            "installing: attrs-17.4.0-py36_0 ...\n",
            "installing: backports-1.0-py36hfa02d7e_1 ...\n",
            "installing: beautifulsoup4-4.6.0-py36h49b8c8c_1 ...\n",
            "installing: bitarray-0.8.1-py36h14c3975_1 ...\n",
            "installing: boto-2.48.0-py36h6e4cd66_1 ...\n",
            "installing: cairo-1.14.12-h77bcde2_0 ...\n",
            "installing: certifi-2018.1.18-py36_0 ...\n",
            "installing: chardet-3.0.4-py36h0f667ec_1 ...\n",
            "installing: click-6.7-py36h5253387_0 ...\n",
            "installing: cloudpickle-0.5.2-py36_1 ...\n",
            "installing: colorama-0.3.9-py36h489cec4_0 ...\n",
            "installing: contextlib2-0.5.5-py36h6c84a62_0 ...\n",
            "installing: dask-core-0.16.1-py36_0 ...\n",
            "installing: decorator-4.2.1-py36_0 ...\n",
            "installing: docutils-0.14-py36hb0f60f5_0 ...\n",
            "installing: entrypoints-0.2.3-py36h1aec115_2 ...\n",
            "installing: et_xmlfile-1.0.1-py36hd6bccc3_0 ...\n",
            "installing: fastcache-1.0.2-py36h14c3975_2 ...\n",
            "installing: filelock-2.0.13-py36h646ffb5_0 ...\n",
            "installing: glob2-0.6-py36he249c77_0 ...\n",
            "installing: gmpy2-2.0.8-py36hc8893dd_2 ...\n",
            "installing: greenlet-0.4.12-py36h2d503a6_0 ...\n",
            "installing: heapdict-1.0.0-py36_2 ...\n",
            "installing: idna-2.6-py36h82fb2a8_1 ...\n",
            "installing: imagesize-0.7.1-py36h52d8127_0 ...\n",
            "installing: ipython_genutils-0.2.0-py36hb52b0d5_0 ...\n",
            "installing: itsdangerous-0.24-py36h93cc618_1 ...\n",
            "installing: jdcal-1.3-py36h4c697fb_0 ...\n",
            "installing: lazy-object-proxy-1.3.1-py36h10fcdad_0 ...\n",
            "installing: llvmlite-0.21.0-py36ha241eea_0 ...\n",
            "installing: locket-0.2.0-py36h787c0ad_1 ...\n",
            "installing: lxml-4.1.1-py36hf71bdeb_1 ...\n",
            "installing: markupsafe-1.0-py36hd9260cd_1 ...\n",
            "installing: mccabe-0.6.1-py36h5ad9710_1 ...\n",
            "installing: mistune-0.8.3-py36_0 ...\n",
            "installing: mkl-service-1.1.2-py36h17a0993_4 ...\n",
            "installing: mpmath-1.0.0-py36hfeacd6b_2 ...\n",
            "installing: msgpack-python-0.5.1-py36h6bb024c_0 ...\n",
            "installing: multipledispatch-0.4.9-py36h41da3fb_0 ...\n",
            "installing: numpy-1.14.0-py36h3dfced4_1 ...\n",
            "installing: olefile-0.45.1-py36_0 ...\n",
            "installing: pandocfilters-1.4.2-py36ha6701b7_1 ...\n",
            "installing: parso-0.1.1-py36h35f843b_0 ...\n",
            "installing: path.py-10.5-py36h55ceabb_0 ...\n",
            "installing: pep8-1.7.1-py36_0 ...\n",
            "installing: pickleshare-0.7.4-py36h63277f8_0 ...\n",
            "installing: pkginfo-1.4.1-py36h215d178_1 ...\n",
            "installing: pluggy-0.6.0-py36hb689045_0 ...\n",
            "installing: ply-3.10-py36hed35086_0 ...\n",
            "installing: psutil-5.4.3-py36h14c3975_0 ...\n",
            "installing: ptyprocess-0.5.2-py36h69acd42_0 ...\n",
            "installing: py-1.5.2-py36h29bf505_0 ...\n",
            "installing: pycodestyle-2.3.1-py36hf609f19_0 ...\n",
            "installing: pycosat-0.6.3-py36h0a5515d_0 ...\n",
            "installing: pycparser-2.18-py36hf9f622e_1 ...\n",
            "installing: pycrypto-2.6.1-py36h14c3975_7 ...\n",
            "installing: pycurl-7.43.0.1-py36hb7f436b_0 ...\n",
            "installing: pyodbc-4.0.22-py36hf484d3e_0 ...\n",
            "installing: pyparsing-2.2.0-py36hee85983_1 ...\n",
            "installing: pysocks-1.6.7-py36hd97a5b1_1 ...\n",
            "installing: pytz-2017.3-py36h63b9c63_0 ...\n",
            "installing: pyyaml-3.12-py36hafb9ca4_1 ...\n",
            "installing: pyzmq-16.0.3-py36he2533c7_0 ...\n",
            "installing: qt-5.6.2-h974d657_12 ...\n",
            "installing: qtpy-1.3.1-py36h3691cc8_0 ...\n",
            "installing: rope-0.10.7-py36h147e2ec_0 ...\n",
            "installing: ruamel_yaml-0.15.35-py36h14c3975_1 ...\n",
            "installing: send2trash-1.4.2-py36_0 ...\n",
            "installing: simplegeneric-0.8.1-py36_2 ...\n",
            "installing: sip-4.18.1-py36h51ed4ed_2 ...\n",
            "installing: six-1.11.0-py36h372c433_1 ...\n",
            "installing: snowballstemmer-1.2.1-py36h6febd40_0 ...\n",
            "installing: sortedcontainers-1.5.9-py36_0 ...\n",
            "installing: sphinxcontrib-1.0-py36h6d0f590_1 ...\n",
            "installing: sqlalchemy-1.2.1-py36h14c3975_0 ...\n",
            "installing: tblib-1.3.2-py36h34cf8b6_0 ...\n",
            "installing: testpath-0.3.1-py36h8cadb63_0 ...\n",
            "installing: toolz-0.9.0-py36_0 ...\n",
            "installing: tornado-4.5.3-py36_0 ...\n",
            "installing: typing-3.6.2-py36h7da032a_0 ...\n",
            "installing: unicodecsv-0.14.1-py36ha668878_0 ...\n",
            "installing: wcwidth-0.1.7-py36hdf4376a_0 ...\n",
            "installing: webencodings-0.5.1-py36h800622e_1 ...\n",
            "installing: werkzeug-0.14.1-py36_0 ...\n",
            "installing: wrapt-1.10.11-py36h28b7045_0 ...\n",
            "installing: xlrd-1.1.0-py36h1db9f0c_1 ...\n",
            "installing: xlsxwriter-1.0.2-py36h3de1aca_0 ...\n",
            "installing: xlwt-1.3.0-py36h7b00a1f_0 ...\n",
            "installing: babel-2.5.3-py36_0 ...\n",
            "installing: backports.shutil_get_terminal_size-1.0.0-py36hfea85ff_2 ...\n",
            "installing: bottleneck-1.2.1-py36haac1ea0_0 ...\n",
            "installing: cffi-1.11.4-py36h9745a5d_0 ...\n",
            "installing: conda-verify-2.0.0-py36h98955d8_0 ...\n",
            "installing: cycler-0.10.0-py36h93f1223_0 ...\n",
            "installing: cytoolz-0.9.0-py36h14c3975_0 ...\n",
            "installing: h5py-2.7.1-py36h3585f63_0 ...\n",
            "installing: harfbuzz-1.7.4-hc5b324e_0 ...\n",
            "installing: html5lib-1.0.1-py36h2f9c1c0_0 ...\n",
            "installing: jedi-0.11.1-py36_0 ...\n",
            "installing: networkx-2.1-py36_0 ...\n",
            "installing: nltk-3.2.5-py36h7532b22_0 ...\n",
            "installing: numba-0.36.2-np114py36hc6662d5_0 ...\n",
            "installing: numexpr-2.6.4-py36hc4a3f9a_0 ...\n",
            "installing: openpyxl-2.4.10-py36_0 ...\n",
            "installing: packaging-16.8-py36ha668100_1 ...\n",
            "installing: partd-0.3.8-py36h36fd896_0 ...\n",
            "installing: pathlib2-2.3.0-py36h49efa8e_0 ...\n",
            "installing: pexpect-4.3.1-py36_0 ...\n",
            "installing: pillow-5.0.0-py36h3deb7b8_0 ...\n",
            "installing: pyqt-5.6.0-py36h0386399_5 ...\n",
            "installing: python-dateutil-2.6.1-py36h88d3b88_1 ...\n",
            "installing: pywavelets-0.5.2-py36he602eb0_0 ...\n",
            "installing: qtawesome-0.4.4-py36h609ed8c_0 ...\n",
            "installing: scipy-1.0.0-py36hbf646e7_0 ...\n",
            "installing: setuptools-38.4.0-py36_0 ...\n",
            "installing: singledispatch-3.4.0.3-py36h7a266c3_0 ...\n",
            "installing: sortedcollections-0.5.3-py36h3c761f9_0 ...\n",
            "installing: sphinxcontrib-websupport-1.0.1-py36hb5cb234_1 ...\n",
            "installing: sympy-1.1.1-py36hc6d1c1c_0 ...\n",
            "installing: terminado-0.8.1-py36_1 ...\n",
            "installing: traitlets-4.3.2-py36h674d592_0 ...\n",
            "installing: zict-0.1.3-py36h3a3bf81_0 ...\n",
            "installing: astroid-1.6.1-py36_0 ...\n",
            "installing: bleach-2.1.2-py36_0 ...\n",
            "installing: clyent-1.2.2-py36h7e57e65_1 ...\n",
            "installing: cryptography-2.1.4-py36hd09be54_0 ...\n",
            "installing: cython-0.27.3-py36h1860423_0 ...\n",
            "installing: datashape-0.5.4-py36h3ad6b5c_0 ...\n",
            "installing: distributed-1.20.2-py36_0 ...\n",
            "installing: get_terminal_size-1.0.0-haa9412d_0 ...\n",
            "installing: gevent-1.2.2-py36h2fe25dc_0 ...\n",
            "installing: imageio-2.2.0-py36he555465_0 ...\n",
            "installing: isort-4.2.15-py36had401c0_0 ...\n",
            "installing: jinja2-2.10-py36ha16c418_0 ...\n",
            "installing: jsonschema-2.6.0-py36h006f8b5_0 ...\n",
            "installing: jupyter_core-4.4.0-py36h7c827e3_0 ...\n",
            "installing: matplotlib-2.1.2-py36h0e671d2_0 ...\n",
            "installing: navigator-updater-0.1.0-py36h14770f7_0 ...\n",
            "installing: nose-1.3.7-py36hcdf7029_2 ...\n",
            "installing: pandas-0.22.0-py36hf484d3e_0 ...\n",
            "installing: pango-1.41.0-hd475d92_0 ...\n",
            "installing: patsy-0.5.0-py36_0 ...\n",
            "installing: pyflakes-1.6.0-py36h7bd6a15_0 ...\n",
            "installing: pygments-2.2.0-py36h0d3125c_0 ...\n",
            "installing: pytables-3.4.2-py36h3b5282a_2 ...\n",
            "installing: pytest-3.3.2-py36_0 ...\n",
            "installing: scikit-learn-0.19.1-py36h7aa7ec6_0 ...\n",
            "installing: wheel-0.30.0-py36hfd4bba0_1 ...\n",
            "installing: astropy-2.0.3-py36h14c3975_0 ...\n",
            "installing: bkcharts-0.2-py36h735825a_0 ...\n",
            "installing: bokeh-0.12.13-py36h2f9c1c0_0 ...\n",
            "installing: flask-0.12.2-py36hb24657c_0 ...\n",
            "installing: jupyter_client-5.2.2-py36_0 ...\n",
            "installing: nbformat-4.4.0-py36h31c9010_0 ...\n",
            "installing: pip-9.0.1-py36h6c6f9ce_4 ...\n",
            "installing: prompt_toolkit-1.0.15-py36h17d85b1_0 ...\n",
            "installing: pylint-1.8.2-py36_0 ...\n",
            "installing: pyopenssl-17.5.0-py36h20ba746_0 ...\n",
            "installing: statsmodels-0.8.0-py36h8533d0b_0 ...\n",
            "installing: dask-0.16.1-py36_0 ...\n",
            "installing: flask-cors-3.0.3-py36h2d857d3_0 ...\n",
            "installing: ipython-6.2.1-py36h88c514a_1 ...\n",
            "installing: nbconvert-5.3.1-py36hb41ffb7_0 ...\n",
            "installing: seaborn-0.8.1-py36hfad7ec4_0 ...\n",
            "installing: urllib3-1.22-py36hbe7ace6_0 ...\n",
            "installing: ipykernel-4.8.0-py36_0 ...\n",
            "installing: odo-0.5.1-py36h90ed295_0 ...\n",
            "installing: requests-2.18.4-py36he2e5f8d_1 ...\n",
            "installing: scikit-image-0.13.1-py36h14c3975_1 ...\n",
            "installing: anaconda-client-1.6.9-py36_0 ...\n",
            "installing: blaze-0.11.3-py36h4e06776_0 ...\n",
            "installing: jupyter_console-5.2.0-py36he59e554_1 ...\n",
            "installing: notebook-5.4.0-py36_0 ...\n",
            "installing: qtconsole-4.3.1-py36h8f73b5b_0 ...\n",
            "installing: sphinx-1.6.6-py36_0 ...\n",
            "installing: anaconda-project-0.8.2-py36h44fb852_0 ...\n",
            "installing: jupyterlab_launcher-0.10.2-py36_0 ...\n",
            "installing: numpydoc-0.7.0-py36h18f165f_0 ...\n",
            "installing: widgetsnbextension-3.1.0-py36_0 ...\n",
            "installing: anaconda-navigator-1.7.0-py36_0 ...\n",
            "installing: ipywidgets-7.1.1-py36_0 ...\n",
            "installing: jupyterlab-0.31.5-py36_0 ...\n",
            "installing: spyder-3.2.6-py36_0 ...\n",
            "installing: _ipyw_jlab_nb_ext_conf-0.1.0-py36he11e457_0 ...\n",
            "installing: jupyter-1.0.0-py36_4 ...\n",
            "installing: anaconda-5.1.0-py36_2 ...\n",
            "installing: conda-4.4.10-py36_0 ...\n",
            "installing: conda-build-3.4.1-py36_0 ...\n",
            "installation finished.\n",
            "WARNING:\n",
            "    You currently have a PYTHONPATH environment variable set. This may cause\n",
            "    unexpected behavior when running the Python interpreter in Anaconda3.\n",
            "    For best results, please verify that your PYTHONPATH only points to\n",
            "    directories of packages that are compatible with the Python interpreter\n",
            "    in Anaconda3: /usr/local\n",
            "/bin/bash: -c: line 0: syntax error near unexpected token `>>'\n",
            "/bin/bash: -c: line 0: `conda install -y --prefix /usr/local -c <<<your wish>>>>'\n",
            "Cloning into 'tvdi'...\n",
            "remote: Enumerating objects: 61, done.\u001b[K\n",
            "remote: Counting objects: 100% (61/61), done.\u001b[K\n",
            "remote: Compressing objects: 100% (58/58), done.\u001b[K\n",
            "remote: Total 61 (delta 26), reused 0 (delta 0), pack-reused 0\u001b[K\n",
            "Unpacking objects: 100% (61/61), done.\n",
            "Collecting git+https://github.com/matplotlib/basemap.git\n",
            "  Cloning https://github.com/matplotlib/basemap.git to /tmp/pip-10kimco4-build\n",
            "\u001b[31mCommand \"python setup.py egg_info\" failed with error code 1 in /tmp/pip-10kimco4-build/\u001b[0m\n"
          ],
          "name": "stdout"
        }
      ]
    },
    {
      "cell_type": "code",
      "metadata": {
        "id": "m6wU23DpOW8U",
        "colab_type": "code",
        "outputId": "360506a2-31aa-40fb-8908-acbe61b2c126",
        "colab": {
          "base_uri": "https://localhost:8080/",
          "height": 351
        }
      },
      "source": [
        "# Importar módulos\n",
        "import gdal\n",
        "from gdalconst import *\n",
        "import numpy as np\n",
        "from glob import glob\n",
        "import scipy\n",
        "from scipy.stats import gaussian_kde\n",
        "from os import path as osp\n",
        "import os, calendar, itertools, subprocess\n",
        "from pymodis import downmodis\n",
        "from pymodis.convertmodis_gdal import convertModisGDAL\n",
        "import matplotlib.pyplot as plt\n",
        "from mpl_toolkits.axes_grid1 import make_axes_locatable\n",
        "from mpl_toolkits.basemap import Basemap"
      ],
      "execution_count": 2,
      "outputs": [
        {
          "output_type": "stream",
          "text": [
            "WxPython missing, no GUI enabled\n"
          ],
          "name": "stdout"
        },
        {
          "output_type": "error",
          "ename": "ModuleNotFoundError",
          "evalue": "ignored",
          "traceback": [
            "\u001b[0;31m---------------------------------------------------------------------------\u001b[0m",
            "\u001b[0;31mModuleNotFoundError\u001b[0m                       Traceback (most recent call last)",
            "\u001b[0;32m<ipython-input-2-9fa553b605a8>\u001b[0m in \u001b[0;36m<module>\u001b[0;34m()\u001b[0m\n\u001b[1;32m     11\u001b[0m \u001b[0;32mimport\u001b[0m \u001b[0mmatplotlib\u001b[0m\u001b[0;34m.\u001b[0m\u001b[0mpyplot\u001b[0m \u001b[0;32mas\u001b[0m \u001b[0mplt\u001b[0m\u001b[0;34m\u001b[0m\u001b[0;34m\u001b[0m\u001b[0m\n\u001b[1;32m     12\u001b[0m \u001b[0;32mfrom\u001b[0m \u001b[0mmpl_toolkits\u001b[0m\u001b[0;34m.\u001b[0m\u001b[0maxes_grid1\u001b[0m \u001b[0;32mimport\u001b[0m \u001b[0mmake_axes_locatable\u001b[0m\u001b[0;34m\u001b[0m\u001b[0;34m\u001b[0m\u001b[0m\n\u001b[0;32m---> 13\u001b[0;31m \u001b[0;32mfrom\u001b[0m \u001b[0mmpl_toolkits\u001b[0m\u001b[0;34m.\u001b[0m\u001b[0mbasemap\u001b[0m \u001b[0;32mimport\u001b[0m \u001b[0mBasemap\u001b[0m\u001b[0;34m\u001b[0m\u001b[0;34m\u001b[0m\u001b[0m\n\u001b[0m",
            "\u001b[0;31mModuleNotFoundError\u001b[0m: No module named 'mpl_toolkits.basemap'",
            "",
            "\u001b[0;31m---------------------------------------------------------------------------\u001b[0;32m\nNOTE: If your import is failing due to a missing package, you can\nmanually install dependencies using either !pip or !apt.\n\nTo view examples of installing some common dependencies, click the\n\"Open Examples\" button below.\n\u001b[0;31m---------------------------------------------------------------------------\u001b[0m\n"
          ]
        }
      ]
    },
    {
      "cell_type": "code",
      "metadata": {
        "id": "8uw3-ubR_pN0",
        "colab_type": "code",
        "colab": {}
      },
      "source": [
        "# Criar diretório dos dados\n",
        "path = './raw_data'\n",
        "if not osp.exists(path):\n",
        "    os.mkdir(path)\n",
        "print(os.listdir('./'))"
      ],
      "execution_count": 0,
      "outputs": []
    },
    {
      "cell_type": "markdown",
      "metadata": {
        "id": "Hnt4LmInM1hw",
        "colab_type": "text"
      },
      "source": [
        "# **1. Download das imagens**\n",
        "A partir da biblioteca pyModis realizamos o download das imagens de interesse. No caso, utilizamos o produto MOD13A2 que corresponde ao índices de vegetação NDVI e EVI composto de 16 dias e o produto MOD11A2 correspondente a Temperature Superficial do Solo (TS) para de um intervalo de 8 dias.\n",
        "O período analisado é referente ao dia juliano 257 (segunda quinzena de Setembro), que é o período mais seco no estado do Ceará."
      ]
    },
    {
      "cell_type": "code",
      "metadata": {
        "id": "M6IoTfkUE792",
        "colab_type": "code",
        "colab": {}
      },
      "source": [
        "# Usuário e senha Earthdata\n",
        "user     = 'grupo_tvdi'\n",
        "password = 'Ninguempodesaber1'\n",
        "\n",
        "# Cenas e produtos a serem baixados\n",
        "tiles    = 'h14v09','h13v09'\n",
        "products = ['MOD13A2.006', 'MOD11A2.006']\n",
        "\n",
        "# Período selecionado\n",
        "day     = '2018-09-14'\n",
        "enddate = '2018-09-29'\n",
        "\n",
        "# Download\n",
        "print('Realizando download...')\n",
        "\n",
        "for p in products:\n",
        "  modisDown = downmodis.downModis(destinationFolder=path,\n",
        "  password=password, user=user, tiles=tiles, product=p, today=day,\n",
        "  enddate=enddate)\n",
        "\n",
        "  modisDown.connect()\n",
        "  modisDown.downloadsAllDay()\n",
        "\n",
        "print('Download completo.')\n",
        "\n",
        "# Checkar imagens baixadas e o seu tamanho em megabytes\n",
        "fls = sorted(glob(path + '/*.hdf'))\n",
        "for f in fls:\n",
        "  print(osp.basename(f),'-', osp.getsize(f)/10e5, 'MB')"
      ],
      "execution_count": 0,
      "outputs": []
    },
    {
      "cell_type": "markdown",
      "metadata": {
        "id": "2siVA6j4NqC4",
        "colab_type": "text"
      },
      "source": [
        "# **2. Extração das bandas de interesse das imagens**\n",
        "Tendo em vista que as imagens MODIS são contidas de diversas bandas (ex.: banda de qualidade do pixel, presença de nuvens, ângulo solar zenital, etc.), as bandas de interesse  são primeiramente extraídas com o módulo *convertModisGDAL*. Para o produto MOD13A2 utilizamos o NDVI e para o produto MOD11A2 a banda utilizada é a do TS capturado durante o dia (*LST_Day_1km*), ambos sendo a primeira banda."
      ]
    },
    {
      "cell_type": "code",
      "metadata": {
        "id": "O08UOMSQO_L-",
        "colab_type": "code",
        "colab": {}
      },
      "source": [
        "# Selecionar as datas julianas únicas das imagens baixadas (np.unique seleciona apenas valores que não se repetem)\n",
        "juliandays = np.unique([osp.basename(f).split(\".\")[1][-3:] for f in fls])\n",
        "\n",
        "# Diretório de saída das bandas\n",
        "path = './processed'\n",
        "if not osp.exists(path):\n",
        "  os.mkdir(path)\n",
        "\n",
        "# Extrair bandas  \n",
        "for f in fls:\n",
        "  \n",
        "  # Banda selecionada (Seleciona somente a primeira banda)\n",
        "  subset = \"1\"\n",
        "  \n",
        "  # Extrair bandas com pymodis (obs: epsg é o código de reprojeção da imagem)\n",
        "  fileout = osp.join(path, osp.basename(f)[:-4])\n",
        "  extr = convertModisGDAL(f, fileout, subset, res=None, outformat='GTiff', epsg=4326)\n",
        "  extr.run(quiet=True)\n",
        "   \n",
        "# Checkar bandas extraídas\n",
        "fls = sorted(glob(path + '/*.tif'))\n",
        "for f in fls:\n",
        "  print(osp.basename(f))"
      ],
      "execution_count": 0,
      "outputs": []
    },
    {
      "cell_type": "markdown",
      "metadata": {
        "id": "KQ2EjJW2ApwR",
        "colab_type": "text"
      },
      "source": [
        "#**3. Mosaicagem**\n",
        "As imagens baixadas são correspondentes às cenas do MODIS (h14v09 e h13v09) e necessitam que sejam combinadas para o Estado do Ceará. Esse processo é realizado selecionando as imagens de mesmo produto e período, porém de cenas distintas. Mais adiante o GDAL é utilizado para criar o mosaico."
      ]
    },
    {
      "cell_type": "code",
      "metadata": {
        "id": "3w91hsPIytvC",
        "colab_type": "code",
        "colab": {}
      },
      "source": [
        "# Listas\n",
        "products   = ['MOD13A2.006', 'MOD11A2.006']\n",
        "juliandays = np.unique([osp.basename(f).split(\".\")[1][-3:] for f in fls])\n",
        "\n",
        "# Selecionar imagens de mesmo produto e período, porém de cenas distintas\n",
        "for p in products:\n",
        "  p = p.split(\".\")[0]\n",
        "  \n",
        "  for jd in juliandays:\n",
        "\n",
        "    # Selecionar todas as imagens criadas no passo anterior (bandas extraídas) para o mesmo produto\n",
        "    glb = glob('./processed/{0}*.tif'.format(p))\n",
        "\n",
        "    # Guardar imagens de cenas distintas de mesmo produto e de mesmo período em uma lista\n",
        "    pair = []\n",
        "    for im in glb:\n",
        "      if jd in im:\n",
        "        pair.append(im)\n",
        "    \n",
        "    # Se a lista de imagens não for vazia, prosseguir.\n",
        "    if not pair == []:\n",
        "    \n",
        "      # Remover espaços no nome do arquivo (pra não dar problema com o GDAL)\n",
        "      rm_spaces = pair[0].replace(\" \", \"\")\n",
        "      \n",
        "      # Criar um novo nome para arquivo de saída\n",
        "      fname = rm_spaces[:-4] + \".MOSAIC.vrt\"\n",
        "\n",
        "      # Criar mosaico com o GDAL utilizando o shell\n",
        "      gdal.BuildVRT(fname, pair)\n",
        "      translateCmd = 'gdal_translate -of GTiff {0} {1}.tif'.format(fname, fname[:-4])\n",
        "      subprocess.call(translateCmd, shell=True)\n",
        "\n",
        "# Checkar mosaicos criados\n",
        "fls = sorted(glob(path + '/*MOSAIC.tif'))\n",
        "for f in fls:\n",
        "  print(osp.basename(f))"
      ],
      "execution_count": 0,
      "outputs": []
    },
    {
      "cell_type": "markdown",
      "metadata": {
        "id": "hHcxOCNSALdp",
        "colab_type": "text"
      },
      "source": [
        "# **4. Recorte para área de interesse**\n",
        "Para focarmos somente na área de nosso interesse, realizamos um recorte utilizando o arquivo *shapefile* dos limites estaduais do Ceará, evitando assim o processamento de dados irrelevantes posteriormente."
      ]
    },
    {
      "cell_type": "code",
      "metadata": {
        "id": "pO3uhRxvrclU",
        "colab_type": "code",
        "colab": {}
      },
      "source": [
        "# Arquivo shapefile\n",
        "shp = './tvdi/ce.shp'\n",
        "print(os.path.isfile(shp))\n",
        "\n",
        "# Realizar corte a partir dos mosaicos da pasta dos arquivos processados\n",
        "for f in fls:\n",
        "  \n",
        "  # Nome do arquivo da imagem recortada\n",
        "  fname = f[:-4] + \".CLIP.tif\"\n",
        "\n",
        "  # Realizar recorte com gdalwarp utilizando o shell do computador\n",
        "  warpCmd = 'gdalwarp -dstnodata -3000 -cutline {0} {1} {2}\\\n",
        "            -crop_to_cutline -overwrite'.format(shp, f, fname)\n",
        "  subprocess.call(warpCmd, shell=True)\n",
        "\n",
        "# Checkar recortes criados\n",
        "fls = sorted(glob(path + '/*CLIP.tif'))\n",
        "for f in fls:\n",
        "  print(osp.basename(f))"
      ],
      "execution_count": 0,
      "outputs": []
    },
    {
      "cell_type": "code",
      "metadata": {
        "id": "tnlxa_B5wm4r",
        "colab_type": "code",
        "cellView": "code",
        "colab": {}
      },
      "source": [
        "# Plot das imagens recortadas\n",
        "dset_tss1, dset_tss2, dset_ndvi = gdal.Open(fls[0], GA_ReadOnly),\\\n",
        "                                  gdal.Open(fls[1], GA_ReadOnly),\\\n",
        "                                  gdal.Open(fls[2], GA_ReadOnly)\n",
        "\n",
        "tss1_band, tss2_band, ndvi_band = dset_tss1.GetRasterBand(1),\\\n",
        "                                  dset_tss2.GetRasterBand(1),\\\n",
        "                                  dset_ndvi.GetRasterBand(1)\n",
        "\n",
        "plt.figure(figsize=(12, 12))\n",
        "\n",
        "plt.subplot(131)\n",
        "plt.title(\"TS 1º 8 dias\")\n",
        "plt.imshow(tss1_band.ReadAsArray() * 0.02, cmap='magma', vmin=300, vmax=325)\n",
        "plt.colorbar(orientation=\"horizontal\", pad=0.05)\n",
        "\n",
        "plt.subplot(132)\n",
        "plt.title(\"TS 2º 8 dias\")\n",
        "plt.imshow(tss2_band.ReadAsArray() * 0.02, cmap='magma', vmin=300, vmax=325)\n",
        "plt.colorbar(orientation=\"horizontal\", pad=0.05)\n",
        "\n",
        "plt.subplot(133)\n",
        "plt.title(\"NDVI\")\n",
        "plt.imshow(ndvi_band.ReadAsArray() * 0.0001, cmap='RdYlGn', vmin=0.1, vmax=0.8)\n",
        "plt.colorbar(orientation=\"horizontal\", pad=0.05)\n",
        "\n",
        "plt.tight_layout(pad=1)\n",
        "plt.show()\n",
        "\n",
        "dset_tss1, dset_tss2, dset_ndvi = None, None, None"
      ],
      "execution_count": 0,
      "outputs": []
    },
    {
      "cell_type": "markdown",
      "metadata": {
        "id": "TeLXB0rcNAh_",
        "colab_type": "text"
      },
      "source": [
        "# **5. Acesso as  imagens**\n",
        "Para igualar o período observado entre as imagens de NDVI e TS, nesta seção é realizada uma média temporal das duas imagens TS de 8 dias. "
      ]
    },
    {
      "cell_type": "code",
      "metadata": {
        "id": "5qaH-op7t7Cr",
        "colab_type": "code",
        "colab": {}
      },
      "source": [
        "fls = sorted(glob(path + '/*CLIP.tif'))\n",
        "\n",
        "# Carregar imagens de temperatura\n",
        "dset_tss1 = gdal.Open(fls[0], GA_ReadOnly)\n",
        "dset_tss2 = gdal.Open(fls[1], GA_ReadOnly)\n",
        "\n",
        "dset_tss1_band = dset_tss1.GetRasterBand(1)\n",
        "dset_tss2_band = dset_tss2.GetRasterBand(1)\n",
        "\n",
        "# Multiplicar pelo fator de escala\n",
        "dset_tss1_array = dset_tss1_band.ReadAsArray() * 0.02\n",
        "dset_tss2_array = dset_tss2_band.ReadAsArray() * 0.02\n",
        "\n",
        "# Criar máscara (substituir np.nan para valores de 0, que são os valores inválidos)\n",
        "dset_tss1_array[dset_tss1_array == 0] = np.nan\n",
        "dset_tss2_array[dset_tss2_array == 0] = np.nan\n",
        "\n",
        "# Calcular média temporal ignorando nan\n",
        "stack_2d = np.array([dset_tss1_array, dset_tss2_array])\n",
        "TS      = scipy.nanmean(stack_2d, axis=0) # média: 311.56830648359954\n",
        "\n",
        "# Fechar datasets\n",
        "dset_tss1, dset_tss2 = None, None\n",
        "\n",
        "# Arredondar para duas casas decimais o valor médio de TS\n",
        "TS = np.round(TS, 2)"
      ],
      "execution_count": 0,
      "outputs": []
    },
    {
      "cell_type": "markdown",
      "metadata": {
        "id": "Lo-GD2LCg-jC",
        "colab_type": "text"
      },
      "source": [
        "O acesso à imagem de NDVI segue da seguinte forma:"
      ]
    },
    {
      "cell_type": "code",
      "metadata": {
        "id": "KvEvzqt80fSS",
        "colab_type": "code",
        "colab": {}
      },
      "source": [
        "# Carregar imagem de NDVI\n",
        "dset_ndvi = gdal.Open(fls[2], GA_ReadOnly)\n",
        "ndvi_band = dset_ndvi.GetRasterBand(1)\n",
        "\n",
        "# Armazenar informações\n",
        "gt        = dset_ndvi.GetGeoTransform()\n",
        "proj      = dset_ndvi.GetProjectionRef()\n",
        "dtype     = ndvi_band.DataType\n",
        "\n",
        "# Multiplicar pelo fator de escala\n",
        "NDVI      = ndvi_band.ReadAsArray() * 0.0001\n",
        "\n",
        "# Criar máscara (substituir np.nan para valores de 0, que são os valores inválidos)\n",
        "NDVI[NDVI == -0.3] = np.nan\n",
        "\n",
        "# Fechar dataset\n",
        "dset_ndvi = None\n",
        "\n",
        "# Arredondar para duas casas decimais e printar valor médio de NDVI\n",
        "NDVI = np.round(NDVI, 2)"
      ],
      "execution_count": 0,
      "outputs": []
    },
    {
      "cell_type": "markdown",
      "metadata": {
        "id": "KjSnNqrGa-p9",
        "colab_type": "text"
      },
      "source": [
        "Visualização das imagens escaladas e histogramas:"
      ]
    },
    {
      "cell_type": "code",
      "metadata": {
        "id": "RnkI0UQaGT63",
        "colab_type": "code",
        "colab": {}
      },
      "source": [
        "# Criar diretório dos dados finais\n",
        "path = './output_final'\n",
        "if not osp.exists(path):\n",
        "    os.mkdir(path)\n",
        "\n",
        "# Tamanho do plot\n",
        "fig, ((ax1, ax2), (ax3, ax4)) = plt.subplots(nrows=2, ncols=2, figsize=(12,12))\n",
        "plt.subplots_adjust(left=0.125, right = 0.9, wspace=0.3)\n",
        "\n",
        "# Subplot TS\n",
        "img1 = ax1.imshow(TS, cmap='magma', vmin=295, vmax=325)\n",
        "ax1.set_title(\"TS - 16 dias \")\n",
        "divider = make_axes_locatable(ax1)\n",
        "cax1 = divider.append_axes(\"right\", size=\"5%\", pad=0.2)\n",
        "cbar = fig.colorbar(img1, cax=cax1)\n",
        "cbar.set_label(\"Temperatura (Kelvin)\")\n",
        "\n",
        "# Subplot NDVI\n",
        "img2 = ax2.imshow(NDVI, cmap='RdYlGn', vmin=0.1, vmax=0.8)\n",
        "ax2.set_title(\"NDVI - 16 dias\")\n",
        "divider = make_axes_locatable(ax2)\n",
        "cax2 = divider.append_axes(\"right\", size=\"5%\", pad=0.2)\n",
        "cbar = fig.colorbar(img2, cax=cax2)\n",
        "cbar.set_label(\"NDVI\")\n",
        "\n",
        "# Subplot Histograma TS\n",
        "img3 = ax3.hist(TS.ravel(), bins=256, range=(295, 325), lw=4, ec='royalblue')\n",
        "ax3.set_aspect(1./ax3.get_data_ratio())\n",
        "ax3.set_title(\"Histograma TS\")\n",
        "ax3.set_xlabel('TS')\n",
        "ax3.set_ylabel('No. de pixels')\n",
        "\n",
        "# Subplot Histograma NDVI\n",
        "img4 = ax4.hist(NDVI.ravel(), bins=256, range=(0.1, 0.8), lw=4, ec='royalblue')\n",
        "ax4.set_aspect(1./ax4.get_data_ratio())\n",
        "ax4.set_title(\"Histograma NDVI\")\n",
        "ax4.set_xlabel('NDVI')\n",
        "ax4.set_ylabel('No. de pixels')\n",
        "\n",
        "# Remover bordas da figura\n",
        "fig.show()"
      ],
      "execution_count": 0,
      "outputs": []
    },
    {
      "cell_type": "markdown",
      "metadata": {
        "id": "dvpGTIGRNQ3f",
        "colab_type": "text"
      },
      "source": [
        "# **6. Tratamento dos dados**\n",
        "Antes da extração do TVDI, os valores de TS fora de 3 desvios padrões foram removidos para melhor representação dos limiares úmido e seco. Além disso, os valores de NDVI menores que zero foram eliminados pois tendem a ser representativos de corpos d'àgua."
      ]
    },
    {
      "cell_type": "markdown",
      "metadata": {
        "id": "rgowwPyK3a-L",
        "colab_type": "text"
      },
      "source": [
        "Eliminar outliers"
      ]
    },
    {
      "cell_type": "code",
      "metadata": {
        "id": "7rwBVS0uJN1j",
        "colab_type": "code",
        "colab": {}
      },
      "source": [
        "# Retirar valores fora de 3 desvios padrões da imagem de TS\n",
        "std  = np.nanstd(TS) # desvio padrão\n",
        "mean = np.nanmean(TS) # média\n",
        "\n",
        "lower_limit = mean - (std*3)\n",
        "upper_limit = mean + (std*3)\n",
        "\n",
        "np.where(TS, TS < lower_limit, np.nan)\n",
        "np.where(TS, TS > upper_limit, np.nan)\n",
        "\n",
        "print(\"Limiar mínimo:\", np.nanmin(TS), \"K\")\n",
        "print(\"Limiar máximo:\", np.nanmax(TS), \"K\")\n",
        "\n",
        "# Retirar valores menores que zero na imagem de NDVI\n",
        "NDVI[NDVI < 0] = np.nan"
      ],
      "execution_count": 0,
      "outputs": []
    },
    {
      "cell_type": "markdown",
      "metadata": {
        "id": "kzFT0A7HNT0S",
        "colab_type": "text"
      },
      "source": [
        "# **7. Cálculo das retas**\n",
        "\n",
        "Para o cálculo das retas, primeiramente são determinadas as temperaturas correspondentes ao mesmo valor de NDVI. Então são estabelecidas as temperaturas máxima e mínima para cada NDVI."
      ]
    },
    {
      "cell_type": "markdown",
      "metadata": {
        "id": "PXEWTkhoqM9f",
        "colab_type": "text"
      },
      "source": [
        "![TVDI](https://docs.google.com/uc?export=download&id=1A81JkeXKesyWRklvICWCuh0bsOey7MGE)Fonte: Du et al. (2017)\n",
        "\n"
      ]
    },
    {
      "cell_type": "markdown",
      "metadata": {
        "id": "TW7byohm3w3y",
        "colab_type": "text"
      },
      "source": [
        "Retirada dos valores máximos e mínimos de TS"
      ]
    },
    {
      "cell_type": "code",
      "metadata": {
        "id": "AnxCSll0keQR",
        "colab_type": "code",
        "colab": {}
      },
      "source": [
        "# Listas para mínimos (limite úmido) e máximos de TS (limite seco)\n",
        "MiniList    = []\n",
        "MaxList     = []\n",
        "# Criar um vetor de NDVI (0 a 1 com espaçamento de 0.01)\n",
        "NDVI_vector = np.round(np.arange(0.01, 1.01, 0.01), 2)\n",
        "\n",
        "# Primeiramente são encontrados os valores de TS para mesmo NDVI\n",
        "for val in NDVI_vector:\n",
        "  TS_vector_val = []\n",
        "  row, col = np.where(NDVI == val) # extrair index\n",
        "  \n",
        "  # Com a localização destes NDVIs, retiramos os valores de temperatura\n",
        "  # correspondentes a estas posições (linhas e colunas)\n",
        "  for i in range(len(row)):\n",
        "    if np.isfinite(TS[row[i], col[i]]):\n",
        "      TS_vector_val += [TS[row[i], col[i]]]\n",
        "  \n",
        "  # Se houver valores de TS para o NDVI desejado, é retirado os\n",
        "  # valores máximo e mínimo\n",
        "  if TS_vector_val != []:\n",
        "    TS_min_val = np.min(TS_vector_val)\n",
        "    TS_max_val = np.max(TS_vector_val)\n",
        "  else:\n",
        "    TS_min_val = np.nan\n",
        "    TS_max_val = np.nan\n",
        "\n",
        "  # Os valores encontrados são adicionados na listas MiniList e MaxList\n",
        "  MiniList += [TS_min_val]\n",
        "  MaxList  += [TS_max_val]\n",
        "  \n",
        "print(\"Valores mínimos\", \"- len:\", len(MiniList))\n",
        "print(MiniList)\n",
        "print(\"Valores máximos\", \"- len:\", len(MaxList))\n",
        "print(MaxList)\n",
        "print(\"Valores de NDVI\", \"- len:\", len(NDVI_vector))\n",
        "print(list(NDVI_vector))"
      ],
      "execution_count": 0,
      "outputs": []
    },
    {
      "cell_type": "markdown",
      "metadata": {
        "id": "freg2re04D0F",
        "colab_type": "text"
      },
      "source": [
        "Retirar coeficientes *a* e *b* para cálculo do TVDI"
      ]
    },
    {
      "cell_type": "code",
      "metadata": {
        "colab_type": "code",
        "id": "HfFdgOyjTTj7",
        "colab": {}
      },
      "source": [
        "# Reta minimo\n",
        "MiniList_fin = []\n",
        "NDVI_fin = []\n",
        "\n",
        "for i, val in enumerate(MiniList):\n",
        "  if np.isfinite(val):\n",
        "    MiniList_fin += [val]\n",
        "    NDVI_fin += [NDVI_vector[i]]\n",
        "print(MiniList_fin)\n",
        "print(NDVI_fin)\n",
        "\n",
        "  # Retirar coeficientes\n",
        "MinPfit = np.polyfit(NDVI_fin[17:], MiniList_fin[17:], 1)\n",
        "print(MinPfit)\n",
        "\n",
        "# Reta maximo\n",
        "MaxList_fin = []\n",
        "NDVI_fin = []\n",
        "for i, val in enumerate(MaxList):\n",
        "  if np.isfinite(val):\n",
        "    MaxList_fin += [val]\n",
        "    NDVI_fin += [NDVI_vector[i]]\n",
        "print(MaxList_fin)\n",
        "print(NDVI_fin)\n",
        "\n",
        "\n",
        "  # Retirar coeficientes\n",
        "MaxPfit = np.polyfit(NDVI_fin[17:], MaxList_fin[17:], 1)\n",
        "print(MaxPfit)"
      ],
      "execution_count": 0,
      "outputs": []
    },
    {
      "cell_type": "markdown",
      "metadata": {
        "id": "tm1Ij1Zpd4Gw",
        "colab_type": "text"
      },
      "source": [
        "Visualizar gráfico de dispersão"
      ]
    },
    {
      "cell_type": "code",
      "metadata": {
        "id": "O1pQGYo2kO8-",
        "colab_type": "code",
        "colab": {}
      },
      "source": [
        "# gerar o primeiro e o último pontos do limite úmido e limite seco\n",
        "a1, b1 = MaxPfit\n",
        "a2, b2 = MinPfit\n",
        "linhamax = [b1 + (a1 * 0), b1 + (a1 * 1)]\n",
        "linhamin = [b2 + (a2 * 0), b2 + (a2 * 1)]\n",
        "\n",
        "plt.figure(figsize=(10,7))\n",
        "plt.plot(NDVI.ravel(), TS.ravel(), \"+\", color='black')#, markersize=3)\n",
        "plt.plot(NDVI_vector[21:], MiniList[21:], '+', color='b')\n",
        "plt.plot(NDVI_vector[21:], MaxList[21:], '+', color='r')\n",
        "plt.plot([0, 1], linhamax, color='r', markersize=8)\n",
        "plt.plot([0, 1], linhamin, color='b', markersize=8)\n",
        "\n",
        "plt.xlabel(\"NDVI\")\n",
        "plt.ylabel(\"TS\")\n",
        "plt.title(\"NDVI vs TS Scatterplot\")"
      ],
      "execution_count": 0,
      "outputs": []
    },
    {
      "cell_type": "code",
      "metadata": {
        "id": "USlzDQCckfqg",
        "colab_type": "code",
        "colab": {}
      },
      "source": [
        "# Scatterplot de densidade\n",
        "NDVIlista = []\n",
        "Templista = []\n",
        "shape = np.shape(NDVI)\n",
        "for b in range(shape[0]): # linhas\n",
        "  for c in range(shape[1]): # Colunas\n",
        "    if np.isfinite(TS[b][c]) and np.isfinite(NDVI[b][c]):\n",
        "      NDVIlista += [NDVI[b][c]]\n",
        "      Templista += [TS[b][c]]\n",
        "print(NDVIlista)\n",
        "print(Templista)\n",
        "\n",
        "xy = np.vstack([NDVIlista, Templista])\n",
        "z = gaussian_kde(xy)(xy)"
      ],
      "execution_count": 0,
      "outputs": []
    },
    {
      "cell_type": "code",
      "metadata": {
        "id": "dQ3F0MW0l9sG",
        "colab_type": "code",
        "colab": {}
      },
      "source": [
        "fig, ax = plt.subplots()\n",
        "ax.scatter(NDVIlista, Templista, c=z, s=8, edgecolor='')\n",
        "plt.show()"
      ],
      "execution_count": 0,
      "outputs": []
    },
    {
      "cell_type": "markdown",
      "metadata": {
        "id": "ObX5YqxsNe3G",
        "colab_type": "text"
      },
      "source": [
        "# **8. Cálculo do TVDI**"
      ]
    },
    {
      "cell_type": "markdown",
      "metadata": {
        "id": "wkC7a2Kh4Q2v",
        "colab_type": "text"
      },
      "source": [
        "![TVDI](https://docs.google.com/uc?export=download&id=1nh-vaYSW5A-g5N2uour3zTiABSmvv86z)\n",
        "\n",
        "O índice calcula a proporção entre a temperatura do pixel em questão e  os limites seco e úmido representados pelas retas. O TVDI varia de 0 a 1, sendo que quanto mais próximo de 1 maior é o nível de seca da região."
      ]
    },
    {
      "cell_type": "code",
      "metadata": {
        "id": "ml3pb02y3bZF",
        "colab_type": "code",
        "colab": {}
      },
      "source": [
        "a1, b1 = MaxPfit\n",
        "a2, b2 = MinPfit\n",
        "print(a1,b1)\n",
        "print(a2,b2)\n",
        "\n",
        "Ts_max = b1 + (a1 * NDVI)\n",
        "Ts_min = b2 + (a2 * NDVI)\n",
        "\n",
        "TVDI = (TS - Ts_min) / (Ts_max - Ts_min)\n",
        "\n",
        "print(np.nanmin(TVDI))\n",
        "print(np.nanmax(TVDI))"
      ],
      "execution_count": 0,
      "outputs": []
    },
    {
      "cell_type": "markdown",
      "metadata": {
        "id": "lFe_Ijn1i3OB",
        "colab_type": "text"
      },
      "source": [
        "Salvar imagem do TVDI em formato GeoTIFF\n",
        "\n"
      ]
    },
    {
      "cell_type": "code",
      "metadata": {
        "id": "TohnRyc44_kr",
        "colab_type": "code",
        "colab": {}
      },
      "source": [
        "# Gerar arquivo GeoTIFF\n",
        "fname_out   = './output_final/TVDI_ce.tif'\n",
        "driver      = gdal.GetDriverByName('GTiff')\n",
        "data_type   = ndvi_band.DataType\n",
        "dset_output = driver.Create(fname_out, NDVI.shape[1], NDVI.shape[0], 1, gdal.GDT_Float32)\n",
        "dset_output.SetGeoTransform(gt)\n",
        "dset_output.SetProjection(proj)\n",
        "dset_output.GetRasterBand(1).WriteArray(TVDI)\n",
        "dset_output.FlushCache()\n",
        "dset_output = None"
      ],
      "execution_count": 0,
      "outputs": []
    },
    {
      "cell_type": "markdown",
      "metadata": {
        "id": "pWbBNPs8aJ0E",
        "colab_type": "text"
      },
      "source": [
        "Plotar imagem e histograma do TVDI"
      ]
    },
    {
      "cell_type": "code",
      "metadata": {
        "id": "XL1_9_6vSjrM",
        "colab_type": "code",
        "colab": {}
      },
      "source": [
        "# Carregar imagem do TVDI gerada\n",
        "dataset   = gdal.Open(\"./output_final/TVDI_ce.tif\")\n",
        "im_array  = dataset.GetRasterBand(1).ReadAsArray()\n",
        "msk_array = np.ma.masked_invalid(im_array)\n",
        "\n",
        "# Retirar matrizes lat lon\n",
        "xy = ds.GetGeoTransform() \n",
        "x, y = ds.RasterXSize, ds.RasterYSize    \n",
        "lon_start = xy[0] \n",
        "lon_stop  = x*xy[1]+xy[0] \n",
        "lon_step  = xy[1]    \n",
        "lat_start = xy[3] \n",
        "lat_stop  = y*xy[5]+xy[3] \n",
        "lat_step  = xy[5]\n",
        "\n",
        "xx = np.arange(lon_start, lon_stop, lon_step) \n",
        "yy = np.arange(lat_start, lat_stop, lat_step)    \n",
        "lons, lats = np.meshgrid(xx,yy)\n",
        "\n",
        "# Desenhar meridianos e pararelos\n",
        "plt.figure(figsize=(8,7))\n",
        "\n",
        "m = Basemap(projection='merc', llcrnrlat=-8, urcrnrlat=-2,\\\n",
        "            llcrnrlon=-42, urcrnrlon=-37, resolution='l', suppress_ticks=True)\n",
        "\n",
        "parallels = np.arange(-80., 0, 1)\n",
        "m.drawparallels(parallels, labels=[True, False, False, False], linewidth=0.25)\n",
        "meridians = np.arange(-350., 10, 1)\n",
        "m.drawmeridians(meridians, labels=[False, False, False, True], linewidth=0.25)\n",
        "\n",
        "# Plotar TVDI\n",
        "m.readshapefile(\"./tvdi/limites_estaduais_bra\", 'limites', linewidth=1)\n",
        "cm = m.pcolormesh(lons, lats, msk_array, vmin = 0., vmax = 1., latlon=True, cmap='CMRmap')\n",
        "\n",
        "# Adicionar colorbar\n",
        "cbar = m.colorbar(cm, location='right', pad=\"5%\")\n",
        "cbar.set_label('TVDI')\n",
        "plt.title('TVDI', fontsize=14)\n",
        "\n",
        "# Salvar figura\n",
        "plt.tight_layout()\n",
        "plt.show()\n",
        "print(\"Valores próximos a 1 indicam condições secas e próximo a 0 condições úmidas\")"
      ],
      "execution_count": 0,
      "outputs": []
    },
    {
      "cell_type": "code",
      "metadata": {
        "id": "_8OUpCafhFPk",
        "colab_type": "code",
        "colab": {}
      },
      "source": [
        "# Plot do histograma\n",
        "plt.figure(figsize=(6,5))\n",
        "plt.hist(TVDI.ravel(), bins=256, range=(0, 1), lw=4, ec='royalblue')\n",
        "plt.title(\"Histograma TVDI\")\n",
        "plt.xlabel('TVDI')\n",
        "plt.ylabel('No. de pixels')\n",
        "plt.tight_layout()\n",
        "\n",
        "plt.show()"
      ],
      "execution_count": 0,
      "outputs": []
    },
    {
      "cell_type": "markdown",
      "metadata": {
        "id": "FHsd4NouGjam",
        "colab_type": "text"
      },
      "source": [
        "# Referências\n",
        "DU, Lingtong et al. Comparison of two simulation methods of the temperature vegetation dryness index (TVDI) for drought monitoring in semi-arid regions of China. **Remote Sensing**, v. 9, n. 2, p. 177, 2017.\n",
        "\n",
        "SANDHOLT, I.; RASMUSSEN, K.; ANDERSEN, J. A simple interpretation of the surface temperature/vegetation index space for assessment of surface moisture status. **Remote Sensing of environment**, v. 79, n. 2-3, p. 213-224, 2002.\n",
        "\n",
        "SCHIRMBECK, L. W.; FONTANA, D. C.; SCHIRMBECK, J. Two approaches to calculate TVDI in humid subtropical climate of southern Brazil. **Scientia Agricola**, v. 75, n. 2, p. 111-120, 2018.\n",
        "\n",
        "MENG, L. et al. The calculation of TVDI based on the composite time of pixel and drought analysis. **The International Archives of the Photogrammetry, Remote Sensing and Spatial Information Sciences**, v. 38, n. Part II, 2010."
      ]
    },
    {
      "cell_type": "markdown",
      "metadata": {
        "id": "0rfkI9VaKlWO",
        "colab_type": "text"
      },
      "source": [
        "# Perspectivas futuras\n",
        "\n",
        "\n",
        "*   Aplicar máscara dos corpos d'água\n",
        "*   Modificar o método para que o TVDI possa ser comparado ao longo do tempo e nas diferentes estações\n",
        "\n",
        "\n"
      ]
    }
  ]
}