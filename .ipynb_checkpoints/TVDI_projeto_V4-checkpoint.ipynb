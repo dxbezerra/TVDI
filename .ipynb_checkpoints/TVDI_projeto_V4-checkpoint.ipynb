{
 "cells": [
  {
   "cell_type": "markdown",
   "metadata": {
    "colab_type": "text",
    "id": "view-in-github"
   },
   "source": [
    "<a href=\"https://colab.research.google.com/github/dxbezerra/tvdi/blob/master/TVDI_projeto_V4.ipynb\" target=\"_parent\"><img src=\"https://colab.research.google.com/assets/colab-badge.svg\" alt=\"Open In Colab\"/></a>"
   ]
  },
  {
   "cell_type": "markdown",
   "metadata": {
    "colab_type": "text",
    "id": "eaaTfQe3OX7s"
   },
   "source": [
    "# **Cálculo do TVDI para o estado do Ceará — uma estimativa de seca em Python**\n",
    "\n",
    "Autores: Diego Xavier, Gustavo Nagel, Raíssa Teixeira, Stella Coelho. \n",
    "\n",
    "Disciplina de Introdução à Programação (SER-307) - 2019\n",
    "\n",
    "Instituto Nacional de Pesquisas Espaciais (INPE)\n",
    "\n",
    "\n",
    "---\n",
    "O índice TVDI (Temperature-Vegetation Dryness Index) é um índice de estresse hídrico baseado na relação entre a temperatura da superfície e o índice de vegetação. Assim, ao integrar o NDVI (Normalized Difference Vegetation Index) e a temperatura de superfície, o TVDI é capaz de estimar o grau da seca de uma localidade, utilizando dados na faixa do visível, infra-vermelho próximo e termal (SANDHOLT et al, 2002). Este índice é de extrema importância para o monitoramento dos períodos de seca de uma região, e pode ser facilmente obtido com dados de sensoriamento remoto nas faixas espectrais citadas. \t\n",
    "Neste sentido, o seguinte programa tem o objetivo de operacionalizar o monitoramento de seca agrícola para o estado do Ceará a partir de dados orbitais do sensor MODIS, apresentando um exemplo para a segunda quinzena de Setembro no ano de 2018, sendo um período de poucas chuvas no estado. O TVDI obtido pode ser assim aplicado para qualquer período em que estejam disponíveis os dados do sensor MODIS, e se combinado com dados de precipitação provenientes de estações meteorológicas é capaz de gerar informação extremamente relevante para uma localidade.\n",
    "\n",
    "![alg](https://docs.google.com/uc?export=download&id=1x-u197nO0fc5QyZcH0Fr2W9hmWYM7wji)\n",
    "\n",
    "\n",
    "As etapas para a obtenção do TVDI consistem de:\n",
    "1.   Download das Imagens\n",
    "2.   Extração das bandas de interesse das imagens\n",
    "3.   Mosaicagem\n",
    "4.   Recorte para área de interesse\n",
    "5.   Acesso das imagens\n",
    "6.   Tratamento dos dados\n",
    "7.   Cálculo das retas\n",
    "8.   Cálculo do TVDI\n",
    "\n",
    "\n",
    "\n"
   ]
  },
  {
   "cell_type": "code",
   "execution_count": 1,
   "metadata": {
    "colab": {
     "base_uri": "https://localhost:8080/",
     "height": 351
    },
    "colab_type": "code",
    "id": "m6wU23DpOW8U",
    "outputId": "360506a2-31aa-40fb-8908-acbe61b2c126"
   },
   "outputs": [
    {
     "name": "stdout",
     "output_type": "stream",
     "text": [
      "WxPython missing, no GUI enabled\n"
     ]
    }
   ],
   "source": [
    "# Importar módulos\n",
    "import gdal\n",
    "from gdalconst import *\n",
    "import numpy as np\n",
    "from glob import glob\n",
    "import scipy\n",
    "from scipy.stats import gaussian_kde\n",
    "from os import path as osp\n",
    "import os, calendar, itertools, subprocess\n",
    "from pymodis import downmodis\n",
    "from pymodis.convertmodis_gdal import convertModisGDAL\n",
    "import matplotlib.pyplot as plt\n",
    "from mpl_toolkits.axes_grid1 import make_axes_locatable\n",
    "from mpl_toolkits.basemap import Basemap"
   ]
  },
  {
   "cell_type": "code",
   "execution_count": 3,
   "metadata": {
    "colab": {},
    "colab_type": "code",
    "id": "8uw3-ubR_pN0"
   },
   "outputs": [],
   "source": [
    "# Criar diretório dos dados\n",
    "path = './raw_data'\n",
    "if not osp.exists(path):\n",
    "    os.mkdir(path)"
   ]
  },
  {
   "cell_type": "markdown",
   "metadata": {
    "colab_type": "text",
    "id": "Hnt4LmInM1hw"
   },
   "source": [
    "# **1. Download das imagens**\n",
    "A partir da biblioteca pyModis realizamos o download das imagens de interesse. No caso, utilizamos o produto MOD13A2 que corresponde ao índices de vegetação NDVI e EVI composto de 16 dias e o produto MOD11A2 correspondente a Temperature Superficial do Solo (TS) para de um intervalo de 8 dias.\n",
    "O período analisado é referente ao dia juliano 257 (segunda quinzena de Setembro), que é o período mais seco no estado do Ceará."
   ]
  },
  {
   "cell_type": "code",
   "execution_count": null,
   "metadata": {
    "colab": {},
    "colab_type": "code",
    "id": "M6IoTfkUE792"
   },
   "outputs": [
    {
     "name": "stdout",
     "output_type": "stream",
     "text": [
      "Realizando download...\n"
     ]
    }
   ],
   "source": [
    "# Usuário e senha Earthdata\n",
    "user     = 'grupo_tvdi'\n",
    "password = 'Ninguempodesaber1'\n",
    "\n",
    "# Cenas e produtos a serem baixados\n",
    "tiles    = 'h14v09','h13v09'\n",
    "products = ['MOD13A2.006', 'MOD11A2.006']\n",
    "\n",
    "# Período selecionado\n",
    "day     = '2018-09-14'\n",
    "enddate = '2018-09-29'\n",
    "\n",
    "# Download\n",
    "print('Realizando download...')\n",
    "\n",
    "for p in products:\n",
    "  modisDown = downmodis.downModis(destinationFolder=path,\n",
    "  password=password, user=user, tiles=tiles, product=p, today=day,\n",
    "  enddate=enddate)\n",
    "\n",
    "  modisDown.connect()\n",
    "  modisDown.downloadsAllDay()\n",
    "\n",
    "print('Download completo.')\n",
    "\n",
    "# Checkar imagens baixadas e o seu tamanho em megabytes\n",
    "fls = sorted(glob(path + '/*.hdf'))\n",
    "for f in fls:\n",
    "  print(osp.basename(f),'-', osp.getsize(f)/10e5, 'MB')"
   ]
  },
  {
   "cell_type": "markdown",
   "metadata": {
    "colab_type": "text",
    "id": "2siVA6j4NqC4"
   },
   "source": [
    "# **2. Extração das bandas de interesse das imagens**\n",
    "Tendo em vista que as imagens MODIS são contidas de diversas bandas (ex.: banda de qualidade do pixel, presença de nuvens, ângulo solar zenital, etc.), as bandas de interesse  são primeiramente extraídas com o módulo *convertModisGDAL*. Para o produto MOD13A2 utilizamos o NDVI e para o produto MOD11A2 a banda utilizada é a do TS capturado durante o dia (*LST_Day_1km*), ambos sendo a primeira banda."
   ]
  },
  {
   "cell_type": "code",
   "execution_count": 0,
   "metadata": {
    "colab": {},
    "colab_type": "code",
    "id": "O08UOMSQO_L-"
   },
   "outputs": [],
   "source": [
    "# Selecionar as datas julianas únicas das imagens baixadas (np.unique seleciona apenas valores que não se repetem)\n",
    "juliandays = np.unique([osp.basename(f).split(\".\")[1][-3:] for f in fls])\n",
    "\n",
    "# Diretório de saída das bandas\n",
    "path = './processed'\n",
    "if not osp.exists(path):\n",
    "  os.mkdir(path)\n",
    "\n",
    "# Extrair bandas  \n",
    "for f in fls:\n",
    "  \n",
    "  # Banda selecionada (Seleciona somente a primeira banda)\n",
    "  subset = \"1\"\n",
    "  \n",
    "  # Extrair bandas com pymodis (obs: epsg é o código de reprojeção da imagem)\n",
    "  fileout = osp.join(path, osp.basename(f)[:-4])\n",
    "  extr = convertModisGDAL(f, fileout, subset, res=None, outformat='GTiff', epsg=4326)\n",
    "  extr.run(quiet=True)\n",
    "   \n",
    "# Checkar bandas extraídas\n",
    "fls = sorted(glob(path + '/*.tif'))\n",
    "for f in fls:\n",
    "  print(osp.basename(f))"
   ]
  },
  {
   "cell_type": "markdown",
   "metadata": {
    "colab_type": "text",
    "id": "KQ2EjJW2ApwR"
   },
   "source": [
    "#**3. Mosaicagem**\n",
    "As imagens baixadas são correspondentes às cenas do MODIS (h14v09 e h13v09) e necessitam que sejam combinadas para o Estado do Ceará. Esse processo é realizado selecionando as imagens de mesmo produto e período, porém de cenas distintas. Mais adiante o GDAL é utilizado para criar o mosaico."
   ]
  },
  {
   "cell_type": "code",
   "execution_count": 0,
   "metadata": {
    "colab": {},
    "colab_type": "code",
    "id": "3w91hsPIytvC"
   },
   "outputs": [],
   "source": [
    "# Listas\n",
    "products   = ['MOD13A2.006', 'MOD11A2.006']\n",
    "juliandays = np.unique([osp.basename(f).split(\".\")[1][-3:] for f in fls])\n",
    "\n",
    "# Selecionar imagens de mesmo produto e período, porém de cenas distintas\n",
    "for p in products:\n",
    "  p = p.split(\".\")[0]\n",
    "  \n",
    "  for jd in juliandays:\n",
    "\n",
    "    # Selecionar todas as imagens criadas no passo anterior (bandas extraídas) para o mesmo produto\n",
    "    glb = glob('./processed/{0}*.tif'.format(p))\n",
    "\n",
    "    # Guardar imagens de cenas distintas de mesmo produto e de mesmo período em uma lista\n",
    "    pair = []\n",
    "    for im in glb:\n",
    "      if jd in im:\n",
    "        pair.append(im)\n",
    "    \n",
    "    # Se a lista de imagens não for vazia, prosseguir.\n",
    "    if not pair == []:\n",
    "    \n",
    "      # Remover espaços no nome do arquivo (pra não dar problema com o GDAL)\n",
    "      rm_spaces = pair[0].replace(\" \", \"\")\n",
    "      \n",
    "      # Criar um novo nome para arquivo de saída\n",
    "      fname = rm_spaces[:-4] + \".MOSAIC.vrt\"\n",
    "\n",
    "      # Criar mosaico com o GDAL utilizando o shell\n",
    "      gdal.BuildVRT(fname, pair)\n",
    "      translateCmd = 'gdal_translate -of GTiff {0} {1}.tif'.format(fname, fname[:-4])\n",
    "      subprocess.call(translateCmd, shell=True)\n",
    "\n",
    "# Checkar mosaicos criados\n",
    "fls = sorted(glob(path + '/*MOSAIC.tif'))\n",
    "for f in fls:\n",
    "  print(osp.basename(f))"
   ]
  },
  {
   "cell_type": "markdown",
   "metadata": {
    "colab_type": "text",
    "id": "hHcxOCNSALdp"
   },
   "source": [
    "# **4. Recorte para área de interesse**\n",
    "Para focarmos somente na área de nosso interesse, realizamos um recorte utilizando o arquivo *shapefile* dos limites estaduais do Ceará, evitando assim o processamento de dados irrelevantes posteriormente."
   ]
  },
  {
   "cell_type": "code",
   "execution_count": 0,
   "metadata": {
    "colab": {},
    "colab_type": "code",
    "id": "pO3uhRxvrclU"
   },
   "outputs": [],
   "source": [
    "# Arquivo shapefile\n",
    "shp = './tvdi/ce.shp'\n",
    "print(os.path.isfile(shp))\n",
    "\n",
    "# Realizar corte a partir dos mosaicos da pasta dos arquivos processados\n",
    "for f in fls:\n",
    "  \n",
    "  # Nome do arquivo da imagem recortada\n",
    "  fname = f[:-4] + \".CLIP.tif\"\n",
    "\n",
    "  # Realizar recorte com gdalwarp utilizando o shell do computador\n",
    "  warpCmd = 'gdalwarp -dstnodata -3000 -cutline {0} {1} {2}\\\n",
    "            -crop_to_cutline -overwrite'.format(shp, f, fname)\n",
    "  subprocess.call(warpCmd, shell=True)\n",
    "\n",
    "# Checkar recortes criados\n",
    "fls = sorted(glob(path + '/*CLIP.tif'))\n",
    "for f in fls:\n",
    "  print(osp.basename(f))"
   ]
  },
  {
   "cell_type": "code",
   "execution_count": 0,
   "metadata": {
    "cellView": "code",
    "colab": {},
    "colab_type": "code",
    "id": "tnlxa_B5wm4r"
   },
   "outputs": [],
   "source": [
    "# Plot das imagens recortadas\n",
    "dset_tss1, dset_tss2, dset_ndvi = gdal.Open(fls[0], GA_ReadOnly),\\\n",
    "                                  gdal.Open(fls[1], GA_ReadOnly),\\\n",
    "                                  gdal.Open(fls[2], GA_ReadOnly)\n",
    "\n",
    "tss1_band, tss2_band, ndvi_band = dset_tss1.GetRasterBand(1),\\\n",
    "                                  dset_tss2.GetRasterBand(1),\\\n",
    "                                  dset_ndvi.GetRasterBand(1)\n",
    "\n",
    "plt.figure(figsize=(12, 12))\n",
    "\n",
    "plt.subplot(131)\n",
    "plt.title(\"TS 1º 8 dias\")\n",
    "plt.imshow(tss1_band.ReadAsArray() * 0.02, cmap='magma', vmin=300, vmax=325)\n",
    "plt.colorbar(orientation=\"horizontal\", pad=0.05)\n",
    "\n",
    "plt.subplot(132)\n",
    "plt.title(\"TS 2º 8 dias\")\n",
    "plt.imshow(tss2_band.ReadAsArray() * 0.02, cmap='magma', vmin=300, vmax=325)\n",
    "plt.colorbar(orientation=\"horizontal\", pad=0.05)\n",
    "\n",
    "plt.subplot(133)\n",
    "plt.title(\"NDVI\")\n",
    "plt.imshow(ndvi_band.ReadAsArray() * 0.0001, cmap='RdYlGn', vmin=0.1, vmax=0.8)\n",
    "plt.colorbar(orientation=\"horizontal\", pad=0.05)\n",
    "\n",
    "plt.tight_layout(pad=1)\n",
    "plt.show()\n",
    "\n",
    "dset_tss1, dset_tss2, dset_ndvi = None, None, None"
   ]
  },
  {
   "cell_type": "markdown",
   "metadata": {
    "colab_type": "text",
    "id": "TeLXB0rcNAh_"
   },
   "source": [
    "# **5. Acesso as  imagens**\n",
    "Para igualar o período observado entre as imagens de NDVI e TS, nesta seção é realizada uma média temporal das duas imagens TS de 8 dias. "
   ]
  },
  {
   "cell_type": "code",
   "execution_count": 0,
   "metadata": {
    "colab": {},
    "colab_type": "code",
    "id": "5qaH-op7t7Cr"
   },
   "outputs": [],
   "source": [
    "fls = sorted(glob(path + '/*CLIP.tif'))\n",
    "\n",
    "# Carregar imagens de temperatura\n",
    "dset_tss1 = gdal.Open(fls[0], GA_ReadOnly)\n",
    "dset_tss2 = gdal.Open(fls[1], GA_ReadOnly)\n",
    "\n",
    "dset_tss1_band = dset_tss1.GetRasterBand(1)\n",
    "dset_tss2_band = dset_tss2.GetRasterBand(1)\n",
    "\n",
    "# Multiplicar pelo fator de escala\n",
    "dset_tss1_array = dset_tss1_band.ReadAsArray() * 0.02\n",
    "dset_tss2_array = dset_tss2_band.ReadAsArray() * 0.02\n",
    "\n",
    "# Criar máscara (substituir np.nan para valores de 0, que são os valores inválidos)\n",
    "dset_tss1_array[dset_tss1_array == 0] = np.nan\n",
    "dset_tss2_array[dset_tss2_array == 0] = np.nan\n",
    "\n",
    "# Calcular média temporal ignorando nan\n",
    "stack_2d = np.array([dset_tss1_array, dset_tss2_array])\n",
    "TS      = scipy.nanmean(stack_2d, axis=0) # média: 311.56830648359954\n",
    "\n",
    "# Fechar datasets\n",
    "dset_tss1, dset_tss2 = None, None\n",
    "\n",
    "# Arredondar para duas casas decimais o valor médio de TS\n",
    "TS = np.round(TS, 2)"
   ]
  },
  {
   "cell_type": "markdown",
   "metadata": {
    "colab_type": "text",
    "id": "Lo-GD2LCg-jC"
   },
   "source": [
    "O acesso à imagem de NDVI segue da seguinte forma:"
   ]
  },
  {
   "cell_type": "code",
   "execution_count": 0,
   "metadata": {
    "colab": {},
    "colab_type": "code",
    "id": "KvEvzqt80fSS"
   },
   "outputs": [],
   "source": [
    "# Carregar imagem de NDVI\n",
    "dset_ndvi = gdal.Open(fls[2], GA_ReadOnly)\n",
    "ndvi_band = dset_ndvi.GetRasterBand(1)\n",
    "\n",
    "# Armazenar informações\n",
    "gt        = dset_ndvi.GetGeoTransform()\n",
    "proj      = dset_ndvi.GetProjectionRef()\n",
    "dtype     = ndvi_band.DataType\n",
    "\n",
    "# Multiplicar pelo fator de escala\n",
    "NDVI      = ndvi_band.ReadAsArray() * 0.0001\n",
    "\n",
    "# Criar máscara (substituir np.nan para valores de 0, que são os valores inválidos)\n",
    "NDVI[NDVI == -0.3] = np.nan\n",
    "\n",
    "# Fechar dataset\n",
    "dset_ndvi = None\n",
    "\n",
    "# Arredondar para duas casas decimais e printar valor médio de NDVI\n",
    "NDVI = np.round(NDVI, 2)"
   ]
  },
  {
   "cell_type": "markdown",
   "metadata": {
    "colab_type": "text",
    "id": "KjSnNqrGa-p9"
   },
   "source": [
    "Visualização das imagens escaladas e histogramas:"
   ]
  },
  {
   "cell_type": "code",
   "execution_count": 0,
   "metadata": {
    "colab": {},
    "colab_type": "code",
    "id": "RnkI0UQaGT63"
   },
   "outputs": [],
   "source": [
    "# Criar diretório dos dados finais\n",
    "path = './output_final'\n",
    "if not osp.exists(path):\n",
    "    os.mkdir(path)\n",
    "\n",
    "# Tamanho do plot\n",
    "fig, ((ax1, ax2), (ax3, ax4)) = plt.subplots(nrows=2, ncols=2, figsize=(12,12))\n",
    "plt.subplots_adjust(left=0.125, right = 0.9, wspace=0.3)\n",
    "\n",
    "# Subplot TS\n",
    "img1 = ax1.imshow(TS, cmap='magma', vmin=295, vmax=325)\n",
    "ax1.set_title(\"TS - 16 dias \")\n",
    "divider = make_axes_locatable(ax1)\n",
    "cax1 = divider.append_axes(\"right\", size=\"5%\", pad=0.2)\n",
    "cbar = fig.colorbar(img1, cax=cax1)\n",
    "cbar.set_label(\"Temperatura (Kelvin)\")\n",
    "\n",
    "# Subplot NDVI\n",
    "img2 = ax2.imshow(NDVI, cmap='RdYlGn', vmin=0.1, vmax=0.8)\n",
    "ax2.set_title(\"NDVI - 16 dias\")\n",
    "divider = make_axes_locatable(ax2)\n",
    "cax2 = divider.append_axes(\"right\", size=\"5%\", pad=0.2)\n",
    "cbar = fig.colorbar(img2, cax=cax2)\n",
    "cbar.set_label(\"NDVI\")\n",
    "\n",
    "# Subplot Histograma TS\n",
    "img3 = ax3.hist(TS.ravel(), bins=256, range=(295, 325), lw=4, ec='royalblue')\n",
    "ax3.set_aspect(1./ax3.get_data_ratio())\n",
    "ax3.set_title(\"Histograma TS\")\n",
    "ax3.set_xlabel('TS')\n",
    "ax3.set_ylabel('No. de pixels')\n",
    "\n",
    "# Subplot Histograma NDVI\n",
    "img4 = ax4.hist(NDVI.ravel(), bins=256, range=(0.1, 0.8), lw=4, ec='royalblue')\n",
    "ax4.set_aspect(1./ax4.get_data_ratio())\n",
    "ax4.set_title(\"Histograma NDVI\")\n",
    "ax4.set_xlabel('NDVI')\n",
    "ax4.set_ylabel('No. de pixels')\n",
    "\n",
    "# Remover bordas da figura\n",
    "fig.show()"
   ]
  },
  {
   "cell_type": "markdown",
   "metadata": {
    "colab_type": "text",
    "id": "dvpGTIGRNQ3f"
   },
   "source": [
    "# **6. Tratamento dos dados**\n",
    "Antes da extração do TVDI, os valores de TS fora de 3 desvios padrões foram removidos para melhor representação dos limiares úmido e seco. Além disso, os valores de NDVI menores que zero foram eliminados pois tendem a ser representativos de corpos d'àgua."
   ]
  },
  {
   "cell_type": "markdown",
   "metadata": {
    "colab_type": "text",
    "id": "rgowwPyK3a-L"
   },
   "source": [
    "Eliminar outliers"
   ]
  },
  {
   "cell_type": "code",
   "execution_count": 0,
   "metadata": {
    "colab": {},
    "colab_type": "code",
    "id": "7rwBVS0uJN1j"
   },
   "outputs": [],
   "source": [
    "# Retirar valores fora de 3 desvios padrões da imagem de TS\n",
    "std  = np.nanstd(TS) # desvio padrão\n",
    "mean = np.nanmean(TS) # média\n",
    "\n",
    "lower_limit = mean - (std*3)\n",
    "upper_limit = mean + (std*3)\n",
    "\n",
    "np.where(TS, TS < lower_limit, np.nan)\n",
    "np.where(TS, TS > upper_limit, np.nan)\n",
    "\n",
    "print(\"Limiar mínimo:\", np.nanmin(TS), \"K\")\n",
    "print(\"Limiar máximo:\", np.nanmax(TS), \"K\")\n",
    "\n",
    "# Retirar valores menores que zero na imagem de NDVI\n",
    "NDVI[NDVI < 0] = np.nan"
   ]
  },
  {
   "cell_type": "markdown",
   "metadata": {
    "colab_type": "text",
    "id": "kzFT0A7HNT0S"
   },
   "source": [
    "# **7. Cálculo das retas**\n",
    "\n",
    "Para o cálculo das retas, primeiramente são determinadas as temperaturas correspondentes ao mesmo valor de NDVI. Então são estabelecidas as temperaturas máxima e mínima para cada NDVI."
   ]
  },
  {
   "cell_type": "markdown",
   "metadata": {
    "colab_type": "text",
    "id": "PXEWTkhoqM9f"
   },
   "source": [
    "![TVDI](https://docs.google.com/uc?export=download&id=1A81JkeXKesyWRklvICWCuh0bsOey7MGE)Fonte: Du et al. (2017)\n",
    "\n"
   ]
  },
  {
   "cell_type": "markdown",
   "metadata": {
    "colab_type": "text",
    "id": "TW7byohm3w3y"
   },
   "source": [
    "Retirada dos valores máximos e mínimos de TS"
   ]
  },
  {
   "cell_type": "code",
   "execution_count": 0,
   "metadata": {
    "colab": {},
    "colab_type": "code",
    "id": "AnxCSll0keQR"
   },
   "outputs": [],
   "source": [
    "# Listas para mínimos (limite úmido) e máximos de TS (limite seco)\n",
    "MiniList    = []\n",
    "MaxList     = []\n",
    "# Criar um vetor de NDVI (0 a 1 com espaçamento de 0.01)\n",
    "NDVI_vector = np.round(np.arange(0.01, 1.01, 0.01), 2)\n",
    "\n",
    "# Primeiramente são encontrados os valores de TS para mesmo NDVI\n",
    "for val in NDVI_vector:\n",
    "  TS_vector_val = []\n",
    "  row, col = np.where(NDVI == val) # extrair index\n",
    "  \n",
    "  # Com a localização destes NDVIs, retiramos os valores de temperatura\n",
    "  # correspondentes a estas posições (linhas e colunas)\n",
    "  for i in range(len(row)):\n",
    "    if np.isfinite(TS[row[i], col[i]]):\n",
    "      TS_vector_val += [TS[row[i], col[i]]]\n",
    "  \n",
    "  # Se houver valores de TS para o NDVI desejado, é retirado os\n",
    "  # valores máximo e mínimo\n",
    "  if TS_vector_val != []:\n",
    "    TS_min_val = np.min(TS_vector_val)\n",
    "    TS_max_val = np.max(TS_vector_val)\n",
    "  else:\n",
    "    TS_min_val = np.nan\n",
    "    TS_max_val = np.nan\n",
    "\n",
    "  # Os valores encontrados são adicionados na listas MiniList e MaxList\n",
    "  MiniList += [TS_min_val]\n",
    "  MaxList  += [TS_max_val]\n",
    "  \n",
    "print(\"Valores mínimos\", \"- len:\", len(MiniList))\n",
    "print(MiniList)\n",
    "print(\"Valores máximos\", \"- len:\", len(MaxList))\n",
    "print(MaxList)\n",
    "print(\"Valores de NDVI\", \"- len:\", len(NDVI_vector))\n",
    "print(list(NDVI_vector))"
   ]
  },
  {
   "cell_type": "markdown",
   "metadata": {
    "colab_type": "text",
    "id": "freg2re04D0F"
   },
   "source": [
    "Retirar coeficientes *a* e *b* para cálculo do TVDI"
   ]
  },
  {
   "cell_type": "code",
   "execution_count": 0,
   "metadata": {
    "colab": {},
    "colab_type": "code",
    "id": "HfFdgOyjTTj7"
   },
   "outputs": [],
   "source": [
    "# Reta minimo\n",
    "MiniList_fin = []\n",
    "NDVI_fin = []\n",
    "\n",
    "for i, val in enumerate(MiniList):\n",
    "  if np.isfinite(val):\n",
    "    MiniList_fin += [val]\n",
    "    NDVI_fin += [NDVI_vector[i]]\n",
    "print(MiniList_fin)\n",
    "print(NDVI_fin)\n",
    "\n",
    "  # Retirar coeficientes\n",
    "MinPfit = np.polyfit(NDVI_fin[17:], MiniList_fin[17:], 1)\n",
    "print(MinPfit)\n",
    "\n",
    "# Reta maximo\n",
    "MaxList_fin = []\n",
    "NDVI_fin = []\n",
    "for i, val in enumerate(MaxList):\n",
    "  if np.isfinite(val):\n",
    "    MaxList_fin += [val]\n",
    "    NDVI_fin += [NDVI_vector[i]]\n",
    "print(MaxList_fin)\n",
    "print(NDVI_fin)\n",
    "\n",
    "\n",
    "  # Retirar coeficientes\n",
    "MaxPfit = np.polyfit(NDVI_fin[17:], MaxList_fin[17:], 1)\n",
    "print(MaxPfit)"
   ]
  },
  {
   "cell_type": "markdown",
   "metadata": {
    "colab_type": "text",
    "id": "tm1Ij1Zpd4Gw"
   },
   "source": [
    "Visualizar gráfico de dispersão"
   ]
  },
  {
   "cell_type": "code",
   "execution_count": 0,
   "metadata": {
    "colab": {},
    "colab_type": "code",
    "id": "O1pQGYo2kO8-"
   },
   "outputs": [],
   "source": [
    "# gerar o primeiro e o último pontos do limite úmido e limite seco\n",
    "a1, b1 = MaxPfit\n",
    "a2, b2 = MinPfit\n",
    "linhamax = [b1 + (a1 * 0), b1 + (a1 * 1)]\n",
    "linhamin = [b2 + (a2 * 0), b2 + (a2 * 1)]\n",
    "\n",
    "plt.figure(figsize=(10,7))\n",
    "plt.plot(NDVI.ravel(), TS.ravel(), \"+\", color='black')#, markersize=3)\n",
    "plt.plot(NDVI_vector[21:], MiniList[21:], '+', color='b')\n",
    "plt.plot(NDVI_vector[21:], MaxList[21:], '+', color='r')\n",
    "plt.plot([0, 1], linhamax, color='r', markersize=8)\n",
    "plt.plot([0, 1], linhamin, color='b', markersize=8)\n",
    "\n",
    "plt.xlabel(\"NDVI\")\n",
    "plt.ylabel(\"TS\")\n",
    "plt.title(\"NDVI vs TS Scatterplot\")"
   ]
  },
  {
   "cell_type": "code",
   "execution_count": 0,
   "metadata": {
    "colab": {},
    "colab_type": "code",
    "id": "USlzDQCckfqg"
   },
   "outputs": [],
   "source": [
    "# Scatterplot de densidade\n",
    "NDVIlista = []\n",
    "Templista = []\n",
    "shape = np.shape(NDVI)\n",
    "for b in range(shape[0]): # linhas\n",
    "  for c in range(shape[1]): # Colunas\n",
    "    if np.isfinite(TS[b][c]) and np.isfinite(NDVI[b][c]):\n",
    "      NDVIlista += [NDVI[b][c]]\n",
    "      Templista += [TS[b][c]]\n",
    "print(NDVIlista)\n",
    "print(Templista)\n",
    "\n",
    "xy = np.vstack([NDVIlista, Templista])\n",
    "z = gaussian_kde(xy)(xy)"
   ]
  },
  {
   "cell_type": "code",
   "execution_count": 0,
   "metadata": {
    "colab": {},
    "colab_type": "code",
    "id": "dQ3F0MW0l9sG"
   },
   "outputs": [],
   "source": [
    "fig, ax = plt.subplots()\n",
    "ax.scatter(NDVIlista, Templista, c=z, s=8, edgecolor='')\n",
    "plt.show()"
   ]
  },
  {
   "cell_type": "markdown",
   "metadata": {
    "colab_type": "text",
    "id": "ObX5YqxsNe3G"
   },
   "source": [
    "# **8. Cálculo do TVDI**"
   ]
  },
  {
   "cell_type": "markdown",
   "metadata": {
    "colab_type": "text",
    "id": "wkC7a2Kh4Q2v"
   },
   "source": [
    "![TVDI](https://docs.google.com/uc?export=download&id=1nh-vaYSW5A-g5N2uour3zTiABSmvv86z)\n",
    "\n",
    "O índice calcula a proporção entre a temperatura do pixel em questão e  os limites seco e úmido representados pelas retas. O TVDI varia de 0 a 1, sendo que quanto mais próximo de 1 maior é o nível de seca da região."
   ]
  },
  {
   "cell_type": "code",
   "execution_count": 0,
   "metadata": {
    "colab": {},
    "colab_type": "code",
    "id": "ml3pb02y3bZF"
   },
   "outputs": [],
   "source": [
    "a1, b1 = MaxPfit\n",
    "a2, b2 = MinPfit\n",
    "print(a1,b1)\n",
    "print(a2,b2)\n",
    "\n",
    "Ts_max = b1 + (a1 * NDVI)\n",
    "Ts_min = b2 + (a2 * NDVI)\n",
    "\n",
    "TVDI = (TS - Ts_min) / (Ts_max - Ts_min)\n",
    "\n",
    "print(np.nanmin(TVDI))\n",
    "print(np.nanmax(TVDI))"
   ]
  },
  {
   "cell_type": "markdown",
   "metadata": {
    "colab_type": "text",
    "id": "lFe_Ijn1i3OB"
   },
   "source": [
    "Salvar imagem do TVDI em formato GeoTIFF\n",
    "\n"
   ]
  },
  {
   "cell_type": "code",
   "execution_count": 0,
   "metadata": {
    "colab": {},
    "colab_type": "code",
    "id": "TohnRyc44_kr"
   },
   "outputs": [],
   "source": [
    "# Gerar arquivo GeoTIFF\n",
    "fname_out   = './output_final/TVDI_ce.tif'\n",
    "driver      = gdal.GetDriverByName('GTiff')\n",
    "data_type   = ndvi_band.DataType\n",
    "dset_output = driver.Create(fname_out, NDVI.shape[1], NDVI.shape[0], 1, gdal.GDT_Float32)\n",
    "dset_output.SetGeoTransform(gt)\n",
    "dset_output.SetProjection(proj)\n",
    "dset_output.GetRasterBand(1).WriteArray(TVDI)\n",
    "dset_output.FlushCache()\n",
    "dset_output = None"
   ]
  },
  {
   "cell_type": "markdown",
   "metadata": {
    "colab_type": "text",
    "id": "pWbBNPs8aJ0E"
   },
   "source": [
    "Plotar imagem e histograma do TVDI"
   ]
  },
  {
   "cell_type": "code",
   "execution_count": 0,
   "metadata": {
    "colab": {},
    "colab_type": "code",
    "id": "XL1_9_6vSjrM"
   },
   "outputs": [],
   "source": [
    "# Carregar imagem do TVDI gerada\n",
    "dataset   = gdal.Open(\"./output_final/TVDI_ce.tif\")\n",
    "im_array  = dataset.GetRasterBand(1).ReadAsArray()\n",
    "msk_array = np.ma.masked_invalid(im_array)\n",
    "\n",
    "# Retirar matrizes lat lon\n",
    "xy = ds.GetGeoTransform() \n",
    "x, y = ds.RasterXSize, ds.RasterYSize    \n",
    "lon_start = xy[0] \n",
    "lon_stop  = x*xy[1]+xy[0] \n",
    "lon_step  = xy[1]    \n",
    "lat_start = xy[3] \n",
    "lat_stop  = y*xy[5]+xy[3] \n",
    "lat_step  = xy[5]\n",
    "\n",
    "xx = np.arange(lon_start, lon_stop, lon_step) \n",
    "yy = np.arange(lat_start, lat_stop, lat_step)    \n",
    "lons, lats = np.meshgrid(xx,yy)\n",
    "\n",
    "# Desenhar meridianos e pararelos\n",
    "plt.figure(figsize=(8,7))\n",
    "\n",
    "m = Basemap(projection='merc', llcrnrlat=-8, urcrnrlat=-2,\\\n",
    "            llcrnrlon=-42, urcrnrlon=-37, resolution='l', suppress_ticks=True)\n",
    "\n",
    "parallels = np.arange(-80., 0, 1)\n",
    "m.drawparallels(parallels, labels=[True, False, False, False], linewidth=0.25)\n",
    "meridians = np.arange(-350., 10, 1)\n",
    "m.drawmeridians(meridians, labels=[False, False, False, True], linewidth=0.25)\n",
    "\n",
    "# Plotar TVDI\n",
    "m.readshapefile(\"./tvdi/limites_estaduais_bra\", 'limites', linewidth=1)\n",
    "cm = m.pcolormesh(lons, lats, msk_array, vmin = 0., vmax = 1., latlon=True, cmap='CMRmap')\n",
    "\n",
    "# Adicionar colorbar\n",
    "cbar = m.colorbar(cm, location='right', pad=\"5%\")\n",
    "cbar.set_label('TVDI')\n",
    "plt.title('TVDI', fontsize=14)\n",
    "\n",
    "# Salvar figura\n",
    "plt.tight_layout()\n",
    "plt.show()\n",
    "print(\"Valores próximos a 1 indicam condições secas e próximo a 0 condições úmidas\")"
   ]
  },
  {
   "cell_type": "code",
   "execution_count": 0,
   "metadata": {
    "colab": {},
    "colab_type": "code",
    "id": "_8OUpCafhFPk"
   },
   "outputs": [],
   "source": [
    "# Plot do histograma\n",
    "plt.figure(figsize=(6,5))\n",
    "plt.hist(TVDI.ravel(), bins=256, range=(0, 1), lw=4, ec='royalblue')\n",
    "plt.title(\"Histograma TVDI\")\n",
    "plt.xlabel('TVDI')\n",
    "plt.ylabel('No. de pixels')\n",
    "plt.tight_layout()\n",
    "\n",
    "plt.show()"
   ]
  },
  {
   "cell_type": "markdown",
   "metadata": {
    "colab_type": "text",
    "id": "FHsd4NouGjam"
   },
   "source": [
    "# Referências\n",
    "DU, Lingtong et al. Comparison of two simulation methods of the temperature vegetation dryness index (TVDI) for drought monitoring in semi-arid regions of China. **Remote Sensing**, v. 9, n. 2, p. 177, 2017.\n",
    "\n",
    "SANDHOLT, I.; RASMUSSEN, K.; ANDERSEN, J. A simple interpretation of the surface temperature/vegetation index space for assessment of surface moisture status. **Remote Sensing of environment**, v. 79, n. 2-3, p. 213-224, 2002.\n",
    "\n",
    "SCHIRMBECK, L. W.; FONTANA, D. C.; SCHIRMBECK, J. Two approaches to calculate TVDI in humid subtropical climate of southern Brazil. **Scientia Agricola**, v. 75, n. 2, p. 111-120, 2018.\n",
    "\n",
    "MENG, L. et al. The calculation of TVDI based on the composite time of pixel and drought analysis. **The International Archives of the Photogrammetry, Remote Sensing and Spatial Information Sciences**, v. 38, n. Part II, 2010."
   ]
  },
  {
   "cell_type": "markdown",
   "metadata": {
    "colab_type": "text",
    "id": "0rfkI9VaKlWO"
   },
   "source": [
    "# Perspectivas futuras\n",
    "\n",
    "\n",
    "*   Aplicar máscara dos corpos d'água\n",
    "*   Modificar o método para que o TVDI possa ser comparado ao longo do tempo e nas diferentes estações\n",
    "\n",
    "\n"
   ]
  }
 ],
 "metadata": {
  "colab": {
   "collapsed_sections": [
    "FHsd4NouGjam",
    "0rfkI9VaKlWO"
   ],
   "include_colab_link": true,
   "name": "TVDI_projeto_2405.ipynb",
   "provenance": [],
   "version": "0.3.2"
  },
  "kernelspec": {
   "display_name": "Python 3",
   "language": "python",
   "name": "python3"
  },
  "language_info": {
   "codemirror_mode": {
    "name": "ipython",
    "version": 3
   },
   "file_extension": ".py",
   "mimetype": "text/x-python",
   "name": "python",
   "nbconvert_exporter": "python",
   "pygments_lexer": "ipython3",
   "version": "3.7.1"
  }
 },
 "nbformat": 4,
 "nbformat_minor": 1
}
